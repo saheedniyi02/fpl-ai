{
  "cells": [
    {
      "cell_type": "code",
      "execution_count": 1,
      "metadata": {
        "colab": {
          "base_uri": "https://localhost:8080/"
        },
        "id": "0Fyxtf9D_Abt",
        "outputId": "bd498c20-6408-4cec-f699-8e5cc05fed8e"
      },
      "outputs": [
        {
          "name": "stdout",
          "output_type": "stream",
          "text": [
            "Looking in indexes: https://pypi.org/simple, https://us-python.pkg.dev/colab-wheels/public/simple/\n",
            "Requirement already satisfied: plotly in /usr/local/lib/python3.7/dist-packages (5.5.0)\n",
            "Collecting kaleido\n",
            "  Downloading kaleido-0.2.1-py2.py3-none-manylinux1_x86_64.whl (79.9 MB)\n",
            "\u001b[K     |████████████████████████████████| 79.9 MB 114 kB/s \n",
            "\u001b[?25hCollecting pulp\n",
            "  Downloading PuLP-2.6.0-py3-none-any.whl (14.2 MB)\n",
            "\u001b[K     |████████████████████████████████| 14.2 MB 21.7 MB/s \n",
            "\u001b[?25hRequirement already satisfied: six in /usr/local/lib/python3.7/dist-packages (from plotly) (1.15.0)\n",
            "Requirement already satisfied: tenacity>=6.2.0 in /usr/local/lib/python3.7/dist-packages (from plotly) (8.0.1)\n",
            "Installing collected packages: pulp, kaleido\n",
            "Successfully installed kaleido-0.2.1 pulp-2.6.0\n"
          ]
        }
      ],
      "source": [
        "pip install plotly kaleido pulp"
      ]
    },
    {
      "cell_type": "code",
      "execution_count": 2,
      "metadata": {
        "id": "v-NXfhTo-5sv"
      },
      "outputs": [],
      "source": [
        "import matplotlib.pyplot as plt\n",
        "import pandas as pd\n",
        "import numpy as np\n",
        "import plotly.express as px\n",
        "from pulp import *"
      ]
    },
    {
      "cell_type": "code",
      "execution_count": 4,
      "metadata": {
        "id": "iM4Xf7-ftrkZ"
      },
      "outputs": [],
      "source": [
        "predicted_fwds = pd.read_csv(\"predicted_dataset/forwards_points.csv\",index_col=0)\n",
        "predicted_fwds[\"name\"] = predicted_fwds[\"name\"].replace({\n",
        "        \"Diogo Teixeira da Silva\": \"Diogo jota\",\n",
        "        \"Cristiano Ronaldo dos Santos Aveiro\": \"Cristaino Ronaldo\",\n",
        "        \"Gabriel Fernando de Jesus\": \"Gabriel Jesus\",\n",
        "        \"Darwin Núñez Ribeiro\": \"Darwin Núñez\",})\n",
        "injured=[\"Richarlison de Andrade\",\"Diogo jota\",\"Ben Chilwell\"]\n",
        "predicted_fwds=predicted_fwds[~predicted_fwds[\"name\"].isin(injured)]\n",
        "predicted_fwds[\"position\"]=\"FWD\"\n",
        "max_fwds=predicted_fwds[\"points\"].max()\n",
        "predicted_fwds[\"points\"]=(predicted_fwds[\"points\"])/max_fwds"
      ]
    },
    {
      "cell_type": "code",
      "execution_count": 5,
      "metadata": {
        "colab": {
          "base_uri": "https://localhost:8080/"
        },
        "id": "rkj2FZ3jbMai",
        "outputId": "bbdd6d1e-eec3-425d-8e89-efd2dfa3bcff"
      },
      "outputs": [
        {
          "name": "stderr",
          "output_type": "stream",
          "text": [
            "/usr/local/lib/python3.7/dist-packages/ipykernel_launcher.py:5: SettingWithCopyWarning: \n",
            "A value is trying to be set on a copy of a slice from a DataFrame.\n",
            "Try using .loc[row_indexer,col_indexer] = value instead\n",
            "\n",
            "See the caveats in the documentation: https://pandas.pydata.org/pandas-docs/stable/user_guide/indexing.html#returning-a-view-versus-a-copy\n",
            "  \"\"\"\n"
          ]
        }
      ],
      "source": [
        "predicted_defs = pd.read_csv(\"predicted_dataset/defenders_points.csv\",index_col=0)\n",
        "predicted_defs[\"position\"]=\"DEF\"\n",
        "predicted_defs=predicted_defs[~predicted_defs[\"name\"].isin(injured)]\n",
        "max_defs=predicted_defs[\"points\"].max()\n",
        "predicted_defs[\"points\"]=(predicted_defs[\"points\"])/max_defs"
      ]
    },
    {
      "cell_type": "code",
      "execution_count": 6,
      "metadata": {
        "id": "7ywYQDyDbW2Y"
      },
      "outputs": [],
      "source": [
        "predicted_mids = pd.read_csv(\"predicted_dataset/midfielders_points.csv\",index_col=0)\n",
        "predicted_mids[\"position\"]=\"MID\"\n",
        "max_mids=predicted_mids[\"points\"].max()\n",
        "predicted_mids[\"points\"]=(predicted_mids[\"points\"])/max_mids"
      ]
    },
    {
      "cell_type": "code",
      "execution_count": 7,
      "metadata": {
        "id": "vPaW-pEhbXcK"
      },
      "outputs": [],
      "source": [
        "predicted_gks = pd.read_csv(\"predicted_dataset/goalkeepers_points.csv\",index_col=0)\n",
        "predicted_gks[\"position\"]=\"GK\"\n",
        "max_gks=predicted_gks[\"points\"].max()\n",
        "predicted_gks[\"points\"]=(predicted_gks[\"points\"])/max_gks"
      ]
    },
    {
      "cell_type": "code",
      "execution_count": 8,
      "metadata": {
        "id": "YXLrwJWbbJYI"
      },
      "outputs": [],
      "source": [
        "predictions=pd.concat([predicted_fwds,predicted_defs,predicted_mids,predicted_gks])"
      ]
    },
    {
      "cell_type": "markdown",
      "metadata": {
        "id": "TjGaGnORxdBw"
      },
      "source": [
        "<h1><b>Fantasy Premier league</b></h1>"
      ]
    },
    {
      "cell_type": "code",
      "execution_count": 9,
      "metadata": {
        "id": "IWTuFesUt295"
      },
      "outputs": [],
      "source": [
        "POS = predictions[\"position\"].unique()\n",
        "CLUBS = predictions[\"team_x\"].unique()\n",
        "BUDGET = 990\n",
        "pos_available = {\n",
        "    'DEF': 5,\n",
        "    'FWD': 3,\n",
        "    'MID': 5,\n",
        "    'GK': 2,\n",
        "}"
      ]
    },
    {
      "cell_type": "code",
      "execution_count": 10,
      "metadata": {
        "colab": {
          "base_uri": "https://localhost:8080/"
        },
        "id": "JkaFi5vEuBJb",
        "outputId": "57a14c8b-932a-493e-f67b-28a9a20c898b"
      },
      "outputs": [
        {
          "name": "stdout",
          "output_type": "stream",
          "text": [
            "Index(['Harry Kane2022-08-06 14:00:00+00:00',\n",
            "       'Cristiano Ronaldo dos Santos Aveiro2022-08-07 13:00:00+00:00',\n",
            "       'Ollie Watkins2022-08-06 14:00:00+00:00',\n",
            "       'Jamie Vardy2022-08-07 13:00:00+00:00',\n",
            "       'Danny Ings2022-08-06 14:00:00+00:00',\n",
            "       'Kai Havertz2022-08-06 16:30:00+00:00',\n",
            "       'Ivan Toney2022-08-07 13:00:00+00:00',\n",
            "       'Chris Wood2022-08-06 14:00:00+00:00',\n",
            "       'Gabriel Fernando de Jesus2022-08-05 19:00:00+00:00',\n",
            "       'Callum Wilson2022-08-06 14:00:00+00:00',\n",
            "       ...\n",
            "       'Martin Dubravka2022-08-06 14:00:00+00:00',\n",
            "       'Aaron Ramsdale2022-08-05 19:00:00+00:00',\n",
            "       'Jordan Pickford2022-08-06 16:30:00+00:00',\n",
            "       'Robert Sánchez2022-08-07 13:00:00+00:00',\n",
            "       'Ederson Santana de Moraes2022-08-07 15:30:00+00:00',\n",
            "       'David Raya Martin2022-08-07 13:00:00+00:00',\n",
            "       'Edouard Mendy2022-08-06 16:30:00+00:00',\n",
            "       'Vicente Guaita2022-08-05 19:00:00+00:00',\n",
            "       'Lukasz Fabianski2022-08-07 15:30:00+00:00',\n",
            "       'Sam Johnstone2022-08-05 19:00:00+00:00'],\n",
            "      dtype='object', name='index', length=255)\n",
            "1\n"
          ]
        }
      ],
      "source": [
        "# Initialize Variables\n",
        "print(predictions.index)\n",
        "names = [predictions[\"name\"].loc[i] for i in predictions.index]\n",
        "print(1)\n",
        "teams = [predictions[\"team_x\"].loc[i] for i in predictions.index]\n",
        "positions = [predictions[\"position\"].loc[i] for i in predictions.index]\n",
        "prices = [predictions[\"value\"].loc[i] for i in predictions.index]\n",
        "points = [predictions[\"points\"].loc[i] for i in predictions.index]\n",
        "players = [LpVariable(\"player_\" + str(i), cat=\"Binary\") for i in predictions[\"name\"]]\n",
        "#print(predictions)"
      ]
    },
    {
      "cell_type": "code",
      "execution_count": 11,
      "metadata": {
        "colab": {
          "base_uri": "https://localhost:8080/"
        },
        "id": "7uFY2nVIuUi3",
        "outputId": "7790ba77-4833-48d6-a368-739f1b6a62cb"
      },
      "outputs": [
        {
          "name": "stderr",
          "output_type": "stream",
          "text": [
            "/usr/local/lib/python3.7/dist-packages/pulp/pulp.py:1352: UserWarning: Spaces are not permitted in the name. Converted to '_'\n",
            "  warnings.warn(\"Spaces are not permitted in the name. Converted to '_'\")\n"
          ]
        }
      ],
      "source": [
        "# Initialize the problem\n",
        "prob = LpProblem(\"FPL Player Choices\", LpMaximize)\n",
        "\n",
        "# Define the objective\n",
        "prob += lpSum(players[i] * points[i] for i in range(len(predictions)))\n",
        "# Objective\n",
        "\n",
        "# Build the constraints\n",
        "prob += lpSum(players[i] * predictions.value[predictions.index[i]] for i in range(len(predictions))) <= BUDGET # Budget Limit\n",
        "\n",
        "for pos in POS:\n",
        " prob += lpSum(players[i] for i in range(len(predictions)) if positions[i] == pos) == pos_available[pos] # Position Limit\n",
        "\n",
        "for club in CLUBS:\n",
        " prob += lpSum(players[i] for i in range(len(predictions)) if teams[i] == club) <= 2# Club Limit"
      ]
    },
    {
      "cell_type": "code",
      "execution_count": 12,
      "metadata": {
        "colab": {
          "base_uri": "https://localhost:8080/"
        },
        "id": "3i8MQD2puPVR",
        "outputId": "90f71778-df6f-411f-c6f4-b0103b9912a6"
      },
      "outputs": [
        {
          "data": {
            "text/plain": [
              "1"
            ]
          },
          "execution_count": 12,
          "metadata": {},
          "output_type": "execute_result"
        }
      ],
      "source": [
        "prob.solve()"
      ]
    },
    {
      "cell_type": "code",
      "execution_count": 13,
      "metadata": {
        "colab": {
          "base_uri": "https://localhost:8080/"
        },
        "id": "KQs3sE-FvScQ",
        "outputId": "fd061f77-79c8-4aa9-ab0b-a329d386761e"
      },
      "outputs": [
        {
          "name": "stdout",
          "output_type": "stream",
          "text": [
            "player_Aaron_Wan_Bissaka\n",
            "player_Bukayo_Saka\n",
            "player_Cristaino_Ronaldo\n",
            "player_Declan_Rice\n",
            "player_Harry_Arter\n",
            "player_Harry_Kane\n",
            "player_Illan_Meslier\n",
            "player_Jefferson_Lerma_Solís\n",
            "player_Joel_Matip\n",
            "player_Matt_Doherty\n",
            "player_Mohamed_Salah\n",
            "player_Nick_Pope\n",
            "player_Ollie_Watkins\n",
            "player_Pascal_Struijk\n",
            "player_Timothy_Castagne\n"
          ]
        }
      ],
      "source": [
        "for v in prob.variables():\n",
        "    if v.varValue != 0:\n",
        "        print(v)"
      ]
    },
    {
      "cell_type": "code",
      "execution_count": 14,
      "metadata": {
        "colab": {
          "base_uri": "https://localhost:8080/"
        },
        "id": "Zi-M0-wBuMaO",
        "outputId": "f02d2a65-5fa7-4eec-f17d-1913a99acd1e"
      },
      "outputs": [
        {
          "name": "stdout",
          "output_type": "stream",
          "text": [
            "Constraint: \n",
            "45*1.0 + 80*1.0 + 105*1.0 + 50*1.0 + 45*1.0 + 115*1.0 + 45*1.0 + 50*1.0 + 60*1.0 + 50*1.0 + 130*1.0 + 50*1.0 + 75*1.0 + 45*1.0 + 45*1.0 = 990.0\n",
            "\n",
            "Score: \n",
            "0.5625558892201893*1.0 + 0.36505760706997764*1.0 + 0.8009023565862402*1.0 + 0.1989603732498932*1.0 + 0.1740486898674216*1.0 + 0.20804814090354692*1.0 + 0.6170590447422813*1.0 + 0.959909588608369*1.0 + 0.687488325728131*1.0 + 0.5118067071487478*1.0 + 0.5560572867296779*1.0= 5.641894009854476\n"
          ]
        }
      ],
      "source": [
        "score = str(prob.objective)\n",
        "constraint = [str(const) for const in prob.constraints.values()][0]\n",
        "for v in prob.variables():\n",
        " score = score.replace(v.name, str(v.varValue))\n",
        " constraint = constraint.replace(v.name, str(v.varValue))\n",
        "\n",
        "score_pretty = \" + \".join( re.findall('[0-9\\.]*\\*1.0', score) )\n",
        "constraint_pretty = \" + \".join( re.findall('[0-9\\.]*\\*1.0', constraint) )\n",
        "\n",
        "print(\"Constraint: \")\n",
        "print(constraint_pretty + \" = \" + str(eval(constraint_pretty)))\n",
        "print()\n",
        "print(\"Score: \")\n",
        "print(score_pretty + \"= \" + str(eval(score_pretty)))"
      ]
    },
    {
      "cell_type": "markdown",
      "metadata": {
        "id": "OjNxAZIRxx93"
      },
      "source": [
        "<h1><b>PLOT TOP PLAYERS</b></h1>"
      ]
    },
    {
      "cell_type": "code",
      "execution_count": 15,
      "metadata": {
        "id": "7BaD0tL3AcB9"
      },
      "outputs": [],
      "source": [
        "no_plotted_players=10"
      ]
    },
    {
      "cell_type": "markdown",
      "metadata": {
        "id": "e3EulEnEBXQm"
      },
      "source": [
        "FWDS"
      ]
    },
    {
      "cell_type": "code",
      "execution_count": 16,
      "metadata": {
        "colab": {
          "base_uri": "https://localhost:8080/",
          "height": 542
        },
        "id": "TlT0TFpY_3Ym",
        "outputId": "4144f765-6618-4b70-a53d-542f55790c04"
      },
      "outputs": [
        {
          "data": {
            "text/html": [
              "<html>\n",
              "<head><meta charset=\"utf-8\" /></head>\n",
              "<body>\n",
              "    <div>            <script src=\"https://cdnjs.cloudflare.com/ajax/libs/mathjax/2.7.5/MathJax.js?config=TeX-AMS-MML_SVG\"></script><script type=\"text/javascript\">if (window.MathJax) {MathJax.Hub.Config({SVG: {font: \"STIX-Web\"}});}</script>                <script type=\"text/javascript\">window.PlotlyConfig = {MathJaxConfig: 'local'};</script>\n",
              "        <script src=\"https://cdn.plot.ly/plotly-2.8.3.min.js\"></script>                <div id=\"51f11e67-e781-42c4-9d31-0fa7a1d4c2c5\" class=\"plotly-graph-div\" style=\"height:525px; width:100%;\"></div>            <script type=\"text/javascript\">                                    window.PLOTLYENV=window.PLOTLYENV || {};                                    if (document.getElementById(\"51f11e67-e781-42c4-9d31-0fa7a1d4c2c5\")) {                    Plotly.newPlot(                        \"51f11e67-e781-42c4-9d31-0fa7a1d4c2c5\",                        [{\"alignmentgroup\":\"True\",\"hovertemplate\":\"name=%{text}<br>points=%{y}<extra></extra>\",\"legendgroup\":\"Callum Wilson\",\"marker\":{\"color\":\"#636efa\",\"pattern\":{\"shape\":\"\"}},\"name\":\"Callum Wilson\",\"offsetgroup\":\"Callum Wilson\",\"orientation\":\"v\",\"showlegend\":true,\"text\":[\"Callum Wilson\"],\"textposition\":\"auto\",\"x\":[\"Callum Wilson\"],\"xaxis\":\"x\",\"y\":[0.43592179058341596],\"yaxis\":\"y\",\"type\":\"bar\"},{\"alignmentgroup\":\"True\",\"hovertemplate\":\"name=%{text}<br>points=%{y}<extra></extra>\",\"legendgroup\":\"Gabriel Jesus\",\"marker\":{\"color\":\"#EF553B\",\"pattern\":{\"shape\":\"\"}},\"name\":\"Gabriel Jesus\",\"offsetgroup\":\"Gabriel Jesus\",\"orientation\":\"v\",\"showlegend\":true,\"text\":[\"Gabriel Jesus\"],\"textposition\":\"auto\",\"x\":[\"Gabriel Jesus\"],\"xaxis\":\"x\",\"y\":[0.4835062231904164],\"yaxis\":\"y\",\"type\":\"bar\"},{\"alignmentgroup\":\"True\",\"hovertemplate\":\"name=%{text}<br>points=%{y}<extra></extra>\",\"legendgroup\":\"Chris Wood\",\"marker\":{\"color\":\"#00cc96\",\"pattern\":{\"shape\":\"\"}},\"name\":\"Chris Wood\",\"offsetgroup\":\"Chris Wood\",\"orientation\":\"v\",\"showlegend\":true,\"text\":[\"Chris Wood\"],\"textposition\":\"auto\",\"x\":[\"Chris Wood\"],\"xaxis\":\"x\",\"y\":[0.49309548267698866],\"yaxis\":\"y\",\"type\":\"bar\"},{\"alignmentgroup\":\"True\",\"hovertemplate\":\"name=%{text}<br>points=%{y}<extra></extra>\",\"legendgroup\":\"Ivan Toney\",\"marker\":{\"color\":\"#ab63fa\",\"pattern\":{\"shape\":\"\"}},\"name\":\"Ivan Toney\",\"offsetgroup\":\"Ivan Toney\",\"orientation\":\"v\",\"showlegend\":true,\"text\":[\"Ivan Toney\"],\"textposition\":\"auto\",\"x\":[\"Ivan Toney\"],\"xaxis\":\"x\",\"y\":[0.5046064876527482],\"yaxis\":\"y\",\"type\":\"bar\"},{\"alignmentgroup\":\"True\",\"hovertemplate\":\"name=%{text}<br>points=%{y}<extra></extra>\",\"legendgroup\":\"Kai Havertz\",\"marker\":{\"color\":\"#FFA15A\",\"pattern\":{\"shape\":\"\"}},\"name\":\"Kai Havertz\",\"offsetgroup\":\"Kai Havertz\",\"orientation\":\"v\",\"showlegend\":true,\"text\":[\"Kai Havertz\"],\"textposition\":\"auto\",\"x\":[\"Kai Havertz\"],\"xaxis\":\"x\",\"y\":[0.5051697241334699],\"yaxis\":\"y\",\"type\":\"bar\"},{\"alignmentgroup\":\"True\",\"hovertemplate\":\"name=%{text}<br>points=%{y}<extra></extra>\",\"legendgroup\":\"Danny Ings\",\"marker\":{\"color\":\"#19d3f3\",\"pattern\":{\"shape\":\"\"}},\"name\":\"Danny Ings\",\"offsetgroup\":\"Danny Ings\",\"orientation\":\"v\",\"showlegend\":true,\"text\":[\"Danny Ings\"],\"textposition\":\"auto\",\"x\":[\"Danny Ings\"],\"xaxis\":\"x\",\"y\":[0.5209672748286357],\"yaxis\":\"y\",\"type\":\"bar\"},{\"alignmentgroup\":\"True\",\"hovertemplate\":\"name=%{text}<br>points=%{y}<extra></extra>\",\"legendgroup\":\"Jamie Vardy\",\"marker\":{\"color\":\"#FF6692\",\"pattern\":{\"shape\":\"\"}},\"name\":\"Jamie Vardy\",\"offsetgroup\":\"Jamie Vardy\",\"orientation\":\"v\",\"showlegend\":true,\"text\":[\"Jamie Vardy\"],\"textposition\":\"auto\",\"x\":[\"Jamie Vardy\"],\"xaxis\":\"x\",\"y\":[0.6564579209705794],\"yaxis\":\"y\",\"type\":\"bar\"},{\"alignmentgroup\":\"True\",\"hovertemplate\":\"name=%{text}<br>points=%{y}<extra></extra>\",\"legendgroup\":\"Ollie Watkins\",\"marker\":{\"color\":\"#B6E880\",\"pattern\":{\"shape\":\"\"}},\"name\":\"Ollie Watkins\",\"offsetgroup\":\"Ollie Watkins\",\"orientation\":\"v\",\"showlegend\":true,\"text\":[\"Ollie Watkins\"],\"textposition\":\"auto\",\"x\":[\"Ollie Watkins\"],\"xaxis\":\"x\",\"y\":[0.687488325728131],\"yaxis\":\"y\",\"type\":\"bar\"},{\"alignmentgroup\":\"True\",\"hovertemplate\":\"name=%{text}<br>points=%{y}<extra></extra>\",\"legendgroup\":\"Cristaino Ronaldo\",\"marker\":{\"color\":\"#FF97FF\",\"pattern\":{\"shape\":\"\"}},\"name\":\"Cristaino Ronaldo\",\"offsetgroup\":\"Cristaino Ronaldo\",\"orientation\":\"v\",\"showlegend\":true,\"text\":[\"Cristaino Ronaldo\"],\"textposition\":\"auto\",\"x\":[\"Cristaino Ronaldo\"],\"xaxis\":\"x\",\"y\":[0.8009023565862402],\"yaxis\":\"y\",\"type\":\"bar\"},{\"alignmentgroup\":\"True\",\"hovertemplate\":\"name=%{text}<br>points=%{y}<extra></extra>\",\"legendgroup\":\"Harry Kane\",\"marker\":{\"color\":\"#FECB52\",\"pattern\":{\"shape\":\"\"}},\"name\":\"Harry Kane\",\"offsetgroup\":\"Harry Kane\",\"orientation\":\"v\",\"showlegend\":true,\"text\":[\"Harry Kane\"],\"textposition\":\"auto\",\"x\":[\"Harry Kane\"],\"xaxis\":\"x\",\"y\":[1.0],\"yaxis\":\"y\",\"type\":\"bar\"}],                        {\"template\":{\"data\":{\"bar\":[{\"error_x\":{\"color\":\"#2a3f5f\"},\"error_y\":{\"color\":\"#2a3f5f\"},\"marker\":{\"line\":{\"color\":\"#E5ECF6\",\"width\":0.5},\"pattern\":{\"fillmode\":\"overlay\",\"size\":10,\"solidity\":0.2}},\"type\":\"bar\"}],\"barpolar\":[{\"marker\":{\"line\":{\"color\":\"#E5ECF6\",\"width\":0.5},\"pattern\":{\"fillmode\":\"overlay\",\"size\":10,\"solidity\":0.2}},\"type\":\"barpolar\"}],\"carpet\":[{\"aaxis\":{\"endlinecolor\":\"#2a3f5f\",\"gridcolor\":\"white\",\"linecolor\":\"white\",\"minorgridcolor\":\"white\",\"startlinecolor\":\"#2a3f5f\"},\"baxis\":{\"endlinecolor\":\"#2a3f5f\",\"gridcolor\":\"white\",\"linecolor\":\"white\",\"minorgridcolor\":\"white\",\"startlinecolor\":\"#2a3f5f\"},\"type\":\"carpet\"}],\"choropleth\":[{\"colorbar\":{\"outlinewidth\":0,\"ticks\":\"\"},\"type\":\"choropleth\"}],\"contour\":[{\"colorbar\":{\"outlinewidth\":0,\"ticks\":\"\"},\"colorscale\":[[0.0,\"#0d0887\"],[0.1111111111111111,\"#46039f\"],[0.2222222222222222,\"#7201a8\"],[0.3333333333333333,\"#9c179e\"],[0.4444444444444444,\"#bd3786\"],[0.5555555555555556,\"#d8576b\"],[0.6666666666666666,\"#ed7953\"],[0.7777777777777778,\"#fb9f3a\"],[0.8888888888888888,\"#fdca26\"],[1.0,\"#f0f921\"]],\"type\":\"contour\"}],\"contourcarpet\":[{\"colorbar\":{\"outlinewidth\":0,\"ticks\":\"\"},\"type\":\"contourcarpet\"}],\"heatmap\":[{\"colorbar\":{\"outlinewidth\":0,\"ticks\":\"\"},\"colorscale\":[[0.0,\"#0d0887\"],[0.1111111111111111,\"#46039f\"],[0.2222222222222222,\"#7201a8\"],[0.3333333333333333,\"#9c179e\"],[0.4444444444444444,\"#bd3786\"],[0.5555555555555556,\"#d8576b\"],[0.6666666666666666,\"#ed7953\"],[0.7777777777777778,\"#fb9f3a\"],[0.8888888888888888,\"#fdca26\"],[1.0,\"#f0f921\"]],\"type\":\"heatmap\"}],\"heatmapgl\":[{\"colorbar\":{\"outlinewidth\":0,\"ticks\":\"\"},\"colorscale\":[[0.0,\"#0d0887\"],[0.1111111111111111,\"#46039f\"],[0.2222222222222222,\"#7201a8\"],[0.3333333333333333,\"#9c179e\"],[0.4444444444444444,\"#bd3786\"],[0.5555555555555556,\"#d8576b\"],[0.6666666666666666,\"#ed7953\"],[0.7777777777777778,\"#fb9f3a\"],[0.8888888888888888,\"#fdca26\"],[1.0,\"#f0f921\"]],\"type\":\"heatmapgl\"}],\"histogram\":[{\"marker\":{\"pattern\":{\"fillmode\":\"overlay\",\"size\":10,\"solidity\":0.2}},\"type\":\"histogram\"}],\"histogram2d\":[{\"colorbar\":{\"outlinewidth\":0,\"ticks\":\"\"},\"colorscale\":[[0.0,\"#0d0887\"],[0.1111111111111111,\"#46039f\"],[0.2222222222222222,\"#7201a8\"],[0.3333333333333333,\"#9c179e\"],[0.4444444444444444,\"#bd3786\"],[0.5555555555555556,\"#d8576b\"],[0.6666666666666666,\"#ed7953\"],[0.7777777777777778,\"#fb9f3a\"],[0.8888888888888888,\"#fdca26\"],[1.0,\"#f0f921\"]],\"type\":\"histogram2d\"}],\"histogram2dcontour\":[{\"colorbar\":{\"outlinewidth\":0,\"ticks\":\"\"},\"colorscale\":[[0.0,\"#0d0887\"],[0.1111111111111111,\"#46039f\"],[0.2222222222222222,\"#7201a8\"],[0.3333333333333333,\"#9c179e\"],[0.4444444444444444,\"#bd3786\"],[0.5555555555555556,\"#d8576b\"],[0.6666666666666666,\"#ed7953\"],[0.7777777777777778,\"#fb9f3a\"],[0.8888888888888888,\"#fdca26\"],[1.0,\"#f0f921\"]],\"type\":\"histogram2dcontour\"}],\"mesh3d\":[{\"colorbar\":{\"outlinewidth\":0,\"ticks\":\"\"},\"type\":\"mesh3d\"}],\"parcoords\":[{\"line\":{\"colorbar\":{\"outlinewidth\":0,\"ticks\":\"\"}},\"type\":\"parcoords\"}],\"pie\":[{\"automargin\":true,\"type\":\"pie\"}],\"scatter\":[{\"marker\":{\"colorbar\":{\"outlinewidth\":0,\"ticks\":\"\"}},\"type\":\"scatter\"}],\"scatter3d\":[{\"line\":{\"colorbar\":{\"outlinewidth\":0,\"ticks\":\"\"}},\"marker\":{\"colorbar\":{\"outlinewidth\":0,\"ticks\":\"\"}},\"type\":\"scatter3d\"}],\"scattercarpet\":[{\"marker\":{\"colorbar\":{\"outlinewidth\":0,\"ticks\":\"\"}},\"type\":\"scattercarpet\"}],\"scattergeo\":[{\"marker\":{\"colorbar\":{\"outlinewidth\":0,\"ticks\":\"\"}},\"type\":\"scattergeo\"}],\"scattergl\":[{\"marker\":{\"colorbar\":{\"outlinewidth\":0,\"ticks\":\"\"}},\"type\":\"scattergl\"}],\"scattermapbox\":[{\"marker\":{\"colorbar\":{\"outlinewidth\":0,\"ticks\":\"\"}},\"type\":\"scattermapbox\"}],\"scatterpolar\":[{\"marker\":{\"colorbar\":{\"outlinewidth\":0,\"ticks\":\"\"}},\"type\":\"scatterpolar\"}],\"scatterpolargl\":[{\"marker\":{\"colorbar\":{\"outlinewidth\":0,\"ticks\":\"\"}},\"type\":\"scatterpolargl\"}],\"scatterternary\":[{\"marker\":{\"colorbar\":{\"outlinewidth\":0,\"ticks\":\"\"}},\"type\":\"scatterternary\"}],\"surface\":[{\"colorbar\":{\"outlinewidth\":0,\"ticks\":\"\"},\"colorscale\":[[0.0,\"#0d0887\"],[0.1111111111111111,\"#46039f\"],[0.2222222222222222,\"#7201a8\"],[0.3333333333333333,\"#9c179e\"],[0.4444444444444444,\"#bd3786\"],[0.5555555555555556,\"#d8576b\"],[0.6666666666666666,\"#ed7953\"],[0.7777777777777778,\"#fb9f3a\"],[0.8888888888888888,\"#fdca26\"],[1.0,\"#f0f921\"]],\"type\":\"surface\"}],\"table\":[{\"cells\":{\"fill\":{\"color\":\"#EBF0F8\"},\"line\":{\"color\":\"white\"}},\"header\":{\"fill\":{\"color\":\"#C8D4E3\"},\"line\":{\"color\":\"white\"}},\"type\":\"table\"}]},\"layout\":{\"annotationdefaults\":{\"arrowcolor\":\"#2a3f5f\",\"arrowhead\":0,\"arrowwidth\":1},\"autotypenumbers\":\"strict\",\"coloraxis\":{\"colorbar\":{\"outlinewidth\":0,\"ticks\":\"\"}},\"colorscale\":{\"diverging\":[[0,\"#8e0152\"],[0.1,\"#c51b7d\"],[0.2,\"#de77ae\"],[0.3,\"#f1b6da\"],[0.4,\"#fde0ef\"],[0.5,\"#f7f7f7\"],[0.6,\"#e6f5d0\"],[0.7,\"#b8e186\"],[0.8,\"#7fbc41\"],[0.9,\"#4d9221\"],[1,\"#276419\"]],\"sequential\":[[0.0,\"#0d0887\"],[0.1111111111111111,\"#46039f\"],[0.2222222222222222,\"#7201a8\"],[0.3333333333333333,\"#9c179e\"],[0.4444444444444444,\"#bd3786\"],[0.5555555555555556,\"#d8576b\"],[0.6666666666666666,\"#ed7953\"],[0.7777777777777778,\"#fb9f3a\"],[0.8888888888888888,\"#fdca26\"],[1.0,\"#f0f921\"]],\"sequentialminus\":[[0.0,\"#0d0887\"],[0.1111111111111111,\"#46039f\"],[0.2222222222222222,\"#7201a8\"],[0.3333333333333333,\"#9c179e\"],[0.4444444444444444,\"#bd3786\"],[0.5555555555555556,\"#d8576b\"],[0.6666666666666666,\"#ed7953\"],[0.7777777777777778,\"#fb9f3a\"],[0.8888888888888888,\"#fdca26\"],[1.0,\"#f0f921\"]]},\"colorway\":[\"#636efa\",\"#EF553B\",\"#00cc96\",\"#ab63fa\",\"#FFA15A\",\"#19d3f3\",\"#FF6692\",\"#B6E880\",\"#FF97FF\",\"#FECB52\"],\"font\":{\"color\":\"#2a3f5f\"},\"geo\":{\"bgcolor\":\"white\",\"lakecolor\":\"white\",\"landcolor\":\"#E5ECF6\",\"showlakes\":true,\"showland\":true,\"subunitcolor\":\"white\"},\"hoverlabel\":{\"align\":\"left\"},\"hovermode\":\"closest\",\"mapbox\":{\"style\":\"light\"},\"paper_bgcolor\":\"white\",\"plot_bgcolor\":\"#E5ECF6\",\"polar\":{\"angularaxis\":{\"gridcolor\":\"white\",\"linecolor\":\"white\",\"ticks\":\"\"},\"bgcolor\":\"#E5ECF6\",\"radialaxis\":{\"gridcolor\":\"white\",\"linecolor\":\"white\",\"ticks\":\"\"}},\"scene\":{\"xaxis\":{\"backgroundcolor\":\"#E5ECF6\",\"gridcolor\":\"white\",\"gridwidth\":2,\"linecolor\":\"white\",\"showbackground\":true,\"ticks\":\"\",\"zerolinecolor\":\"white\"},\"yaxis\":{\"backgroundcolor\":\"#E5ECF6\",\"gridcolor\":\"white\",\"gridwidth\":2,\"linecolor\":\"white\",\"showbackground\":true,\"ticks\":\"\",\"zerolinecolor\":\"white\"},\"zaxis\":{\"backgroundcolor\":\"#E5ECF6\",\"gridcolor\":\"white\",\"gridwidth\":2,\"linecolor\":\"white\",\"showbackground\":true,\"ticks\":\"\",\"zerolinecolor\":\"white\"}},\"shapedefaults\":{\"line\":{\"color\":\"#2a3f5f\"}},\"ternary\":{\"aaxis\":{\"gridcolor\":\"white\",\"linecolor\":\"white\",\"ticks\":\"\"},\"baxis\":{\"gridcolor\":\"white\",\"linecolor\":\"white\",\"ticks\":\"\"},\"bgcolor\":\"#E5ECF6\",\"caxis\":{\"gridcolor\":\"white\",\"linecolor\":\"white\",\"ticks\":\"\"}},\"title\":{\"x\":0.05},\"xaxis\":{\"automargin\":true,\"gridcolor\":\"white\",\"linecolor\":\"white\",\"ticks\":\"\",\"title\":{\"standoff\":15},\"zerolinecolor\":\"white\",\"zerolinewidth\":2},\"yaxis\":{\"automargin\":true,\"gridcolor\":\"white\",\"linecolor\":\"white\",\"ticks\":\"\",\"title\":{\"standoff\":15},\"zerolinecolor\":\"white\",\"zerolinewidth\":2}}},\"xaxis\":{\"anchor\":\"y\",\"domain\":[0.0,1.0],\"title\":{\"text\":\"name\"},\"categoryorder\":\"array\",\"categoryarray\":[\"Callum Wilson\",\"Gabriel Jesus\",\"Chris Wood\",\"Ivan Toney\",\"Kai Havertz\",\"Danny Ings\",\"Jamie Vardy\",\"Ollie Watkins\",\"Cristaino Ronaldo\",\"Harry Kane\"],\"visible\":false,\"showticklabels\":false},\"yaxis\":{\"anchor\":\"x\",\"domain\":[0.0,1.0],\"title\":{\"text\":\"points\"}},\"legend\":{\"title\":{\"text\":\"name\"},\"tracegroupgap\":0},\"title\":{\"text\":\"Long-Form Input\"},\"barmode\":\"relative\"},                        {\"responsive\": true}                    ).then(function(){\n",
              "                            \n",
              "var gd = document.getElementById('51f11e67-e781-42c4-9d31-0fa7a1d4c2c5');\n",
              "var x = new MutationObserver(function (mutations, observer) {{\n",
              "        var display = window.getComputedStyle(gd).display;\n",
              "        if (!display || display === 'none') {{\n",
              "            console.log([gd, 'removed!']);\n",
              "            Plotly.purge(gd);\n",
              "            observer.disconnect();\n",
              "        }}\n",
              "}});\n",
              "\n",
              "// Listen for the removal of the full notebook cells\n",
              "var notebookContainer = gd.closest('#notebook-container');\n",
              "if (notebookContainer) {{\n",
              "    x.observe(notebookContainer, {childList: true});\n",
              "}}\n",
              "\n",
              "// Listen for the clearing of the current output cell\n",
              "var outputEl = gd.closest('.output');\n",
              "if (outputEl) {{\n",
              "    x.observe(outputEl, {childList: true});\n",
              "}}\n",
              "\n",
              "                        })                };                            </script>        </div>\n",
              "</body>\n",
              "</html>"
            ]
          },
          "metadata": {},
          "output_type": "display_data"
        }
      ],
      "source": [
        "fig = px.bar(predicted_fwds.head(no_plotted_players).sort_values(\"points\", ascending=True), x=\"name\", y=\"points\",color=\"name\" ,text=\"name\", title=\"Long-Form Input\")\n",
        "fig.update_xaxes(visible=False, showticklabels=False)\n",
        "fig.show()\n",
        "fig.write_image(\"plots/forwards.png\")"
      ]
    },
    {
      "cell_type": "markdown",
      "metadata": {
        "id": "oxAHtPlsBeLW"
      },
      "source": [
        "MIDS"
      ]
    },
    {
      "cell_type": "code",
      "execution_count": 17,
      "metadata": {
        "colab": {
          "base_uri": "https://localhost:8080/",
          "height": 542
        },
        "id": "yAPDA7DBA_66",
        "outputId": "366a93f1-527b-4a9e-e5b8-6af830518732"
      },
      "outputs": [
        {
          "data": {
            "text/html": [
              "<html>\n",
              "<head><meta charset=\"utf-8\" /></head>\n",
              "<body>\n",
              "    <div>            <script src=\"https://cdnjs.cloudflare.com/ajax/libs/mathjax/2.7.5/MathJax.js?config=TeX-AMS-MML_SVG\"></script><script type=\"text/javascript\">if (window.MathJax) {MathJax.Hub.Config({SVG: {font: \"STIX-Web\"}});}</script>                <script type=\"text/javascript\">window.PlotlyConfig = {MathJaxConfig: 'local'};</script>\n",
              "        <script src=\"https://cdn.plot.ly/plotly-2.8.3.min.js\"></script>                <div id=\"205a58b7-dc2f-4a12-b766-c64c4a5e33dd\" class=\"plotly-graph-div\" style=\"height:525px; width:100%;\"></div>            <script type=\"text/javascript\">                                    window.PLOTLYENV=window.PLOTLYENV || {};                                    if (document.getElementById(\"205a58b7-dc2f-4a12-b766-c64c4a5e33dd\")) {                    Plotly.newPlot(                        \"205a58b7-dc2f-4a12-b766-c64c4a5e33dd\",                        [{\"alignmentgroup\":\"True\",\"hovertemplate\":\"name=%{text}<br>points=%{y}<extra></extra>\",\"legendgroup\":\"Luis D\\u00edaz\",\"marker\":{\"color\":\"#636efa\",\"pattern\":{\"shape\":\"\"}},\"name\":\"Luis D\\u00edaz\",\"offsetgroup\":\"Luis D\\u00edaz\",\"orientation\":\"v\",\"showlegend\":true,\"text\":[\"Luis D\\u00edaz\"],\"textposition\":\"auto\",\"x\":[\"Luis D\\u00edaz\"],\"xaxis\":\"x\",\"y\":[0.28699491347530726],\"yaxis\":\"y\",\"type\":\"bar\"},{\"alignmentgroup\":\"True\",\"hovertemplate\":\"name=%{text}<br>points=%{y}<extra></extra>\",\"legendgroup\":\"Mason Mount\",\"marker\":{\"color\":\"#EF553B\",\"pattern\":{\"shape\":\"\"}},\"name\":\"Mason Mount\",\"offsetgroup\":\"Mason Mount\",\"orientation\":\"v\",\"showlegend\":true,\"text\":[\"Mason Mount\"],\"textposition\":\"auto\",\"x\":[\"Mason Mount\"],\"xaxis\":\"x\",\"y\":[0.29467191971343076],\"yaxis\":\"y\",\"type\":\"bar\"},{\"alignmentgroup\":\"True\",\"hovertemplate\":\"name=%{text}<br>points=%{y}<extra></extra>\",\"legendgroup\":\"James Maddison\",\"marker\":{\"color\":\"#00cc96\",\"pattern\":{\"shape\":\"\"}},\"name\":\"James Maddison\",\"offsetgroup\":\"James Maddison\",\"orientation\":\"v\",\"showlegend\":true,\"text\":[\"James Maddison\"],\"textposition\":\"auto\",\"x\":[\"James Maddison\"],\"xaxis\":\"x\",\"y\":[0.32068370119726436],\"yaxis\":\"y\",\"type\":\"bar\"},{\"alignmentgroup\":\"True\",\"hovertemplate\":\"name=%{text}<br>points=%{y}<extra></extra>\",\"legendgroup\":\"Jarrod Bowen\",\"marker\":{\"color\":\"#ab63fa\",\"pattern\":{\"shape\":\"\"}},\"name\":\"Jarrod Bowen\",\"offsetgroup\":\"Jarrod Bowen\",\"orientation\":\"v\",\"showlegend\":true,\"text\":[\"Jarrod Bowen\"],\"textposition\":\"auto\",\"x\":[\"Jarrod Bowen\"],\"xaxis\":\"x\",\"y\":[0.3334311481782079],\"yaxis\":\"y\",\"type\":\"bar\"},{\"alignmentgroup\":\"True\",\"hovertemplate\":\"name=%{text}<br>points=%{y}<extra></extra>\",\"legendgroup\":\"Raheem Sterling\",\"marker\":{\"color\":\"#FFA15A\",\"pattern\":{\"shape\":\"\"}},\"name\":\"Raheem Sterling\",\"offsetgroup\":\"Raheem Sterling\",\"orientation\":\"v\",\"showlegend\":true,\"text\":[\"Raheem Sterling\"],\"textposition\":\"auto\",\"x\":[\"Raheem Sterling\"],\"xaxis\":\"x\",\"y\":[0.34544128170284377],\"yaxis\":\"y\",\"type\":\"bar\"},{\"alignmentgroup\":\"True\",\"hovertemplate\":\"name=%{text}<br>points=%{y}<extra></extra>\",\"legendgroup\":\"Bukayo Saka\",\"marker\":{\"color\":\"#19d3f3\",\"pattern\":{\"shape\":\"\"}},\"name\":\"Bukayo Saka\",\"offsetgroup\":\"Bukayo Saka\",\"orientation\":\"v\",\"showlegend\":true,\"text\":[\"Bukayo Saka\"],\"textposition\":\"auto\",\"x\":[\"Bukayo Saka\"],\"xaxis\":\"x\",\"y\":[0.36505760706997764],\"yaxis\":\"y\",\"type\":\"bar\"},{\"alignmentgroup\":\"True\",\"hovertemplate\":\"name=%{text}<br>points=%{y}<extra></extra>\",\"legendgroup\":\"Bruno Borges Fernandes\",\"marker\":{\"color\":\"#FF6692\",\"pattern\":{\"shape\":\"\"}},\"name\":\"Bruno Borges Fernandes\",\"offsetgroup\":\"Bruno Borges Fernandes\",\"orientation\":\"v\",\"showlegend\":true,\"text\":[\"Bruno Borges Fernandes\"],\"textposition\":\"auto\",\"x\":[\"Bruno Borges Fernandes\"],\"xaxis\":\"x\",\"y\":[0.41270493568516275],\"yaxis\":\"y\",\"type\":\"bar\"},{\"alignmentgroup\":\"True\",\"hovertemplate\":\"name=%{text}<br>points=%{y}<extra></extra>\",\"legendgroup\":\"Kevin De Bruyne\",\"marker\":{\"color\":\"#B6E880\",\"pattern\":{\"shape\":\"\"}},\"name\":\"Kevin De Bruyne\",\"offsetgroup\":\"Kevin De Bruyne\",\"orientation\":\"v\",\"showlegend\":true,\"text\":[\"Kevin De Bruyne\"],\"textposition\":\"auto\",\"x\":[\"Kevin De Bruyne\"],\"xaxis\":\"x\",\"y\":[0.4185659989504386],\"yaxis\":\"y\",\"type\":\"bar\"},{\"alignmentgroup\":\"True\",\"hovertemplate\":\"name=%{text}<br>points=%{y}<extra></extra>\",\"legendgroup\":\"Son Heung-min\",\"marker\":{\"color\":\"#FF97FF\",\"pattern\":{\"shape\":\"\"}},\"name\":\"Son Heung-min\",\"offsetgroup\":\"Son Heung-min\",\"orientation\":\"v\",\"showlegend\":true,\"text\":[\"Son Heung-min\"],\"textposition\":\"auto\",\"x\":[\"Son Heung-min\"],\"xaxis\":\"x\",\"y\":[0.7819078253032398],\"yaxis\":\"y\",\"type\":\"bar\"},{\"alignmentgroup\":\"True\",\"hovertemplate\":\"name=%{text}<br>points=%{y}<extra></extra>\",\"legendgroup\":\"Mohamed Salah\",\"marker\":{\"color\":\"#FECB52\",\"pattern\":{\"shape\":\"\"}},\"name\":\"Mohamed Salah\",\"offsetgroup\":\"Mohamed Salah\",\"orientation\":\"v\",\"showlegend\":true,\"text\":[\"Mohamed Salah\"],\"textposition\":\"auto\",\"x\":[\"Mohamed Salah\"],\"xaxis\":\"x\",\"y\":[1.0],\"yaxis\":\"y\",\"type\":\"bar\"}],                        {\"template\":{\"data\":{\"bar\":[{\"error_x\":{\"color\":\"#2a3f5f\"},\"error_y\":{\"color\":\"#2a3f5f\"},\"marker\":{\"line\":{\"color\":\"#E5ECF6\",\"width\":0.5},\"pattern\":{\"fillmode\":\"overlay\",\"size\":10,\"solidity\":0.2}},\"type\":\"bar\"}],\"barpolar\":[{\"marker\":{\"line\":{\"color\":\"#E5ECF6\",\"width\":0.5},\"pattern\":{\"fillmode\":\"overlay\",\"size\":10,\"solidity\":0.2}},\"type\":\"barpolar\"}],\"carpet\":[{\"aaxis\":{\"endlinecolor\":\"#2a3f5f\",\"gridcolor\":\"white\",\"linecolor\":\"white\",\"minorgridcolor\":\"white\",\"startlinecolor\":\"#2a3f5f\"},\"baxis\":{\"endlinecolor\":\"#2a3f5f\",\"gridcolor\":\"white\",\"linecolor\":\"white\",\"minorgridcolor\":\"white\",\"startlinecolor\":\"#2a3f5f\"},\"type\":\"carpet\"}],\"choropleth\":[{\"colorbar\":{\"outlinewidth\":0,\"ticks\":\"\"},\"type\":\"choropleth\"}],\"contour\":[{\"colorbar\":{\"outlinewidth\":0,\"ticks\":\"\"},\"colorscale\":[[0.0,\"#0d0887\"],[0.1111111111111111,\"#46039f\"],[0.2222222222222222,\"#7201a8\"],[0.3333333333333333,\"#9c179e\"],[0.4444444444444444,\"#bd3786\"],[0.5555555555555556,\"#d8576b\"],[0.6666666666666666,\"#ed7953\"],[0.7777777777777778,\"#fb9f3a\"],[0.8888888888888888,\"#fdca26\"],[1.0,\"#f0f921\"]],\"type\":\"contour\"}],\"contourcarpet\":[{\"colorbar\":{\"outlinewidth\":0,\"ticks\":\"\"},\"type\":\"contourcarpet\"}],\"heatmap\":[{\"colorbar\":{\"outlinewidth\":0,\"ticks\":\"\"},\"colorscale\":[[0.0,\"#0d0887\"],[0.1111111111111111,\"#46039f\"],[0.2222222222222222,\"#7201a8\"],[0.3333333333333333,\"#9c179e\"],[0.4444444444444444,\"#bd3786\"],[0.5555555555555556,\"#d8576b\"],[0.6666666666666666,\"#ed7953\"],[0.7777777777777778,\"#fb9f3a\"],[0.8888888888888888,\"#fdca26\"],[1.0,\"#f0f921\"]],\"type\":\"heatmap\"}],\"heatmapgl\":[{\"colorbar\":{\"outlinewidth\":0,\"ticks\":\"\"},\"colorscale\":[[0.0,\"#0d0887\"],[0.1111111111111111,\"#46039f\"],[0.2222222222222222,\"#7201a8\"],[0.3333333333333333,\"#9c179e\"],[0.4444444444444444,\"#bd3786\"],[0.5555555555555556,\"#d8576b\"],[0.6666666666666666,\"#ed7953\"],[0.7777777777777778,\"#fb9f3a\"],[0.8888888888888888,\"#fdca26\"],[1.0,\"#f0f921\"]],\"type\":\"heatmapgl\"}],\"histogram\":[{\"marker\":{\"pattern\":{\"fillmode\":\"overlay\",\"size\":10,\"solidity\":0.2}},\"type\":\"histogram\"}],\"histogram2d\":[{\"colorbar\":{\"outlinewidth\":0,\"ticks\":\"\"},\"colorscale\":[[0.0,\"#0d0887\"],[0.1111111111111111,\"#46039f\"],[0.2222222222222222,\"#7201a8\"],[0.3333333333333333,\"#9c179e\"],[0.4444444444444444,\"#bd3786\"],[0.5555555555555556,\"#d8576b\"],[0.6666666666666666,\"#ed7953\"],[0.7777777777777778,\"#fb9f3a\"],[0.8888888888888888,\"#fdca26\"],[1.0,\"#f0f921\"]],\"type\":\"histogram2d\"}],\"histogram2dcontour\":[{\"colorbar\":{\"outlinewidth\":0,\"ticks\":\"\"},\"colorscale\":[[0.0,\"#0d0887\"],[0.1111111111111111,\"#46039f\"],[0.2222222222222222,\"#7201a8\"],[0.3333333333333333,\"#9c179e\"],[0.4444444444444444,\"#bd3786\"],[0.5555555555555556,\"#d8576b\"],[0.6666666666666666,\"#ed7953\"],[0.7777777777777778,\"#fb9f3a\"],[0.8888888888888888,\"#fdca26\"],[1.0,\"#f0f921\"]],\"type\":\"histogram2dcontour\"}],\"mesh3d\":[{\"colorbar\":{\"outlinewidth\":0,\"ticks\":\"\"},\"type\":\"mesh3d\"}],\"parcoords\":[{\"line\":{\"colorbar\":{\"outlinewidth\":0,\"ticks\":\"\"}},\"type\":\"parcoords\"}],\"pie\":[{\"automargin\":true,\"type\":\"pie\"}],\"scatter\":[{\"marker\":{\"colorbar\":{\"outlinewidth\":0,\"ticks\":\"\"}},\"type\":\"scatter\"}],\"scatter3d\":[{\"line\":{\"colorbar\":{\"outlinewidth\":0,\"ticks\":\"\"}},\"marker\":{\"colorbar\":{\"outlinewidth\":0,\"ticks\":\"\"}},\"type\":\"scatter3d\"}],\"scattercarpet\":[{\"marker\":{\"colorbar\":{\"outlinewidth\":0,\"ticks\":\"\"}},\"type\":\"scattercarpet\"}],\"scattergeo\":[{\"marker\":{\"colorbar\":{\"outlinewidth\":0,\"ticks\":\"\"}},\"type\":\"scattergeo\"}],\"scattergl\":[{\"marker\":{\"colorbar\":{\"outlinewidth\":0,\"ticks\":\"\"}},\"type\":\"scattergl\"}],\"scattermapbox\":[{\"marker\":{\"colorbar\":{\"outlinewidth\":0,\"ticks\":\"\"}},\"type\":\"scattermapbox\"}],\"scatterpolar\":[{\"marker\":{\"colorbar\":{\"outlinewidth\":0,\"ticks\":\"\"}},\"type\":\"scatterpolar\"}],\"scatterpolargl\":[{\"marker\":{\"colorbar\":{\"outlinewidth\":0,\"ticks\":\"\"}},\"type\":\"scatterpolargl\"}],\"scatterternary\":[{\"marker\":{\"colorbar\":{\"outlinewidth\":0,\"ticks\":\"\"}},\"type\":\"scatterternary\"}],\"surface\":[{\"colorbar\":{\"outlinewidth\":0,\"ticks\":\"\"},\"colorscale\":[[0.0,\"#0d0887\"],[0.1111111111111111,\"#46039f\"],[0.2222222222222222,\"#7201a8\"],[0.3333333333333333,\"#9c179e\"],[0.4444444444444444,\"#bd3786\"],[0.5555555555555556,\"#d8576b\"],[0.6666666666666666,\"#ed7953\"],[0.7777777777777778,\"#fb9f3a\"],[0.8888888888888888,\"#fdca26\"],[1.0,\"#f0f921\"]],\"type\":\"surface\"}],\"table\":[{\"cells\":{\"fill\":{\"color\":\"#EBF0F8\"},\"line\":{\"color\":\"white\"}},\"header\":{\"fill\":{\"color\":\"#C8D4E3\"},\"line\":{\"color\":\"white\"}},\"type\":\"table\"}]},\"layout\":{\"annotationdefaults\":{\"arrowcolor\":\"#2a3f5f\",\"arrowhead\":0,\"arrowwidth\":1},\"autotypenumbers\":\"strict\",\"coloraxis\":{\"colorbar\":{\"outlinewidth\":0,\"ticks\":\"\"}},\"colorscale\":{\"diverging\":[[0,\"#8e0152\"],[0.1,\"#c51b7d\"],[0.2,\"#de77ae\"],[0.3,\"#f1b6da\"],[0.4,\"#fde0ef\"],[0.5,\"#f7f7f7\"],[0.6,\"#e6f5d0\"],[0.7,\"#b8e186\"],[0.8,\"#7fbc41\"],[0.9,\"#4d9221\"],[1,\"#276419\"]],\"sequential\":[[0.0,\"#0d0887\"],[0.1111111111111111,\"#46039f\"],[0.2222222222222222,\"#7201a8\"],[0.3333333333333333,\"#9c179e\"],[0.4444444444444444,\"#bd3786\"],[0.5555555555555556,\"#d8576b\"],[0.6666666666666666,\"#ed7953\"],[0.7777777777777778,\"#fb9f3a\"],[0.8888888888888888,\"#fdca26\"],[1.0,\"#f0f921\"]],\"sequentialminus\":[[0.0,\"#0d0887\"],[0.1111111111111111,\"#46039f\"],[0.2222222222222222,\"#7201a8\"],[0.3333333333333333,\"#9c179e\"],[0.4444444444444444,\"#bd3786\"],[0.5555555555555556,\"#d8576b\"],[0.6666666666666666,\"#ed7953\"],[0.7777777777777778,\"#fb9f3a\"],[0.8888888888888888,\"#fdca26\"],[1.0,\"#f0f921\"]]},\"colorway\":[\"#636efa\",\"#EF553B\",\"#00cc96\",\"#ab63fa\",\"#FFA15A\",\"#19d3f3\",\"#FF6692\",\"#B6E880\",\"#FF97FF\",\"#FECB52\"],\"font\":{\"color\":\"#2a3f5f\"},\"geo\":{\"bgcolor\":\"white\",\"lakecolor\":\"white\",\"landcolor\":\"#E5ECF6\",\"showlakes\":true,\"showland\":true,\"subunitcolor\":\"white\"},\"hoverlabel\":{\"align\":\"left\"},\"hovermode\":\"closest\",\"mapbox\":{\"style\":\"light\"},\"paper_bgcolor\":\"white\",\"plot_bgcolor\":\"#E5ECF6\",\"polar\":{\"angularaxis\":{\"gridcolor\":\"white\",\"linecolor\":\"white\",\"ticks\":\"\"},\"bgcolor\":\"#E5ECF6\",\"radialaxis\":{\"gridcolor\":\"white\",\"linecolor\":\"white\",\"ticks\":\"\"}},\"scene\":{\"xaxis\":{\"backgroundcolor\":\"#E5ECF6\",\"gridcolor\":\"white\",\"gridwidth\":2,\"linecolor\":\"white\",\"showbackground\":true,\"ticks\":\"\",\"zerolinecolor\":\"white\"},\"yaxis\":{\"backgroundcolor\":\"#E5ECF6\",\"gridcolor\":\"white\",\"gridwidth\":2,\"linecolor\":\"white\",\"showbackground\":true,\"ticks\":\"\",\"zerolinecolor\":\"white\"},\"zaxis\":{\"backgroundcolor\":\"#E5ECF6\",\"gridcolor\":\"white\",\"gridwidth\":2,\"linecolor\":\"white\",\"showbackground\":true,\"ticks\":\"\",\"zerolinecolor\":\"white\"}},\"shapedefaults\":{\"line\":{\"color\":\"#2a3f5f\"}},\"ternary\":{\"aaxis\":{\"gridcolor\":\"white\",\"linecolor\":\"white\",\"ticks\":\"\"},\"baxis\":{\"gridcolor\":\"white\",\"linecolor\":\"white\",\"ticks\":\"\"},\"bgcolor\":\"#E5ECF6\",\"caxis\":{\"gridcolor\":\"white\",\"linecolor\":\"white\",\"ticks\":\"\"}},\"title\":{\"x\":0.05},\"xaxis\":{\"automargin\":true,\"gridcolor\":\"white\",\"linecolor\":\"white\",\"ticks\":\"\",\"title\":{\"standoff\":15},\"zerolinecolor\":\"white\",\"zerolinewidth\":2},\"yaxis\":{\"automargin\":true,\"gridcolor\":\"white\",\"linecolor\":\"white\",\"ticks\":\"\",\"title\":{\"standoff\":15},\"zerolinecolor\":\"white\",\"zerolinewidth\":2}}},\"xaxis\":{\"anchor\":\"y\",\"domain\":[0.0,1.0],\"title\":{\"text\":\"name\"},\"categoryorder\":\"array\",\"categoryarray\":[\"Luis D\\u00edaz\",\"Mason Mount\",\"James Maddison\",\"Jarrod Bowen\",\"Raheem Sterling\",\"Bukayo Saka\",\"Bruno Borges Fernandes\",\"Kevin De Bruyne\",\"Son Heung-min\",\"Mohamed Salah\"],\"visible\":false,\"showticklabels\":false},\"yaxis\":{\"anchor\":\"x\",\"domain\":[0.0,1.0],\"title\":{\"text\":\"points\"}},\"legend\":{\"title\":{\"text\":\"name\"},\"tracegroupgap\":0},\"title\":{\"text\":\"Long-Form Input\"},\"barmode\":\"relative\"},                        {\"responsive\": true}                    ).then(function(){\n",
              "                            \n",
              "var gd = document.getElementById('205a58b7-dc2f-4a12-b766-c64c4a5e33dd');\n",
              "var x = new MutationObserver(function (mutations, observer) {{\n",
              "        var display = window.getComputedStyle(gd).display;\n",
              "        if (!display || display === 'none') {{\n",
              "            console.log([gd, 'removed!']);\n",
              "            Plotly.purge(gd);\n",
              "            observer.disconnect();\n",
              "        }}\n",
              "}});\n",
              "\n",
              "// Listen for the removal of the full notebook cells\n",
              "var notebookContainer = gd.closest('#notebook-container');\n",
              "if (notebookContainer) {{\n",
              "    x.observe(notebookContainer, {childList: true});\n",
              "}}\n",
              "\n",
              "// Listen for the clearing of the current output cell\n",
              "var outputEl = gd.closest('.output');\n",
              "if (outputEl) {{\n",
              "    x.observe(outputEl, {childList: true});\n",
              "}}\n",
              "\n",
              "                        })                };                            </script>        </div>\n",
              "</body>\n",
              "</html>"
            ]
          },
          "metadata": {},
          "output_type": "display_data"
        }
      ],
      "source": [
        "fig = px.bar(predicted_mids.head(no_plotted_players).sort_values(\"points\", ascending=True), x=\"name\", y=\"points\",color=\"name\" ,text=\"name\", title=\"Long-Form Input\")\n",
        "fig.update_xaxes(visible=False, showticklabels=False)\n",
        "fig.show()\n",
        "fig.write_image(\"plots/midfielders.png\")"
      ]
    },
    {
      "cell_type": "markdown",
      "metadata": {
        "id": "Z89GVp0tBs7U"
      },
      "source": [
        "defs"
      ]
    },
    {
      "cell_type": "code",
      "execution_count": 18,
      "metadata": {
        "colab": {
          "base_uri": "https://localhost:8080/",
          "height": 542
        },
        "id": "au_bphWp_l5X",
        "outputId": "ded47552-1b75-4b26-80ca-29821f114f8d"
      },
      "outputs": [
        {
          "data": {
            "text/html": [
              "<html>\n",
              "<head><meta charset=\"utf-8\" /></head>\n",
              "<body>\n",
              "    <div>            <script src=\"https://cdnjs.cloudflare.com/ajax/libs/mathjax/2.7.5/MathJax.js?config=TeX-AMS-MML_SVG\"></script><script type=\"text/javascript\">if (window.MathJax) {MathJax.Hub.Config({SVG: {font: \"STIX-Web\"}});}</script>                <script type=\"text/javascript\">window.PlotlyConfig = {MathJaxConfig: 'local'};</script>\n",
              "        <script src=\"https://cdn.plot.ly/plotly-2.8.3.min.js\"></script>                <div id=\"83f30c01-1ef6-45c7-b73f-59d65d136110\" class=\"plotly-graph-div\" style=\"height:525px; width:100%;\"></div>            <script type=\"text/javascript\">                                    window.PLOTLYENV=window.PLOTLYENV || {};                                    if (document.getElementById(\"83f30c01-1ef6-45c7-b73f-59d65d136110\")) {                    Plotly.newPlot(                        \"83f30c01-1ef6-45c7-b73f-59d65d136110\",                        [{\"alignmentgroup\":\"True\",\"hovertemplate\":\"name=%{text}<br>points=%{y}<extra></extra>\",\"legendgroup\":\"Harry Maguire\",\"marker\":{\"color\":\"#636efa\",\"pattern\":{\"shape\":\"\"}},\"name\":\"Harry Maguire\",\"offsetgroup\":\"Harry Maguire\",\"orientation\":\"v\",\"showlegend\":true,\"text\":[\"Harry Maguire\"],\"textposition\":\"auto\",\"x\":[\"Harry Maguire\"],\"xaxis\":\"x\",\"y\":[0.556907086541763],\"yaxis\":\"y\",\"type\":\"bar\"},{\"alignmentgroup\":\"True\",\"hovertemplate\":\"name=%{text}<br>points=%{y}<extra></extra>\",\"legendgroup\":\"Rapha\\u00ebl Varane\",\"marker\":{\"color\":\"#EF553B\",\"pattern\":{\"shape\":\"\"}},\"name\":\"Rapha\\u00ebl Varane\",\"offsetgroup\":\"Rapha\\u00ebl Varane\",\"orientation\":\"v\",\"showlegend\":true,\"text\":[\"Rapha\\u00ebl Varane\"],\"textposition\":\"auto\",\"x\":[\"Rapha\\u00ebl Varane\"],\"xaxis\":\"x\",\"y\":[0.5570829366771062],\"yaxis\":\"y\",\"type\":\"bar\"},{\"alignmentgroup\":\"True\",\"hovertemplate\":\"name=%{text}<br>points=%{y}<extra></extra>\",\"legendgroup\":\"Aaron Wan-Bissaka\",\"marker\":{\"color\":\"#00cc96\",\"pattern\":{\"shape\":\"\"}},\"name\":\"Aaron Wan-Bissaka\",\"offsetgroup\":\"Aaron Wan-Bissaka\",\"orientation\":\"v\",\"showlegend\":true,\"text\":[\"Aaron Wan-Bissaka\"],\"textposition\":\"auto\",\"x\":[\"Aaron Wan-Bissaka\"],\"xaxis\":\"x\",\"y\":[0.5625558892201893],\"yaxis\":\"y\",\"type\":\"bar\"},{\"alignmentgroup\":\"True\",\"hovertemplate\":\"name=%{text}<br>points=%{y}<extra></extra>\",\"legendgroup\":\"Andrew Robertson\",\"marker\":{\"color\":\"#ab63fa\",\"pattern\":{\"shape\":\"\"}},\"name\":\"Andrew Robertson\",\"offsetgroup\":\"Andrew Robertson\",\"orientation\":\"v\",\"showlegend\":true,\"text\":[\"Andrew Robertson\"],\"textposition\":\"auto\",\"x\":[\"Andrew Robertson\"],\"xaxis\":\"x\",\"y\":[0.5655537281512879],\"yaxis\":\"y\",\"type\":\"bar\"},{\"alignmentgroup\":\"True\",\"hovertemplate\":\"name=%{text}<br>points=%{y}<extra></extra>\",\"legendgroup\":\"Cristian Romero\",\"marker\":{\"color\":\"#FFA15A\",\"pattern\":{\"shape\":\"\"}},\"name\":\"Cristian Romero\",\"offsetgroup\":\"Cristian Romero\",\"orientation\":\"v\",\"showlegend\":true,\"text\":[\"Cristian Romero\"],\"textposition\":\"auto\",\"x\":[\"Cristian Romero\"],\"xaxis\":\"x\",\"y\":[0.5882544778322678],\"yaxis\":\"y\",\"type\":\"bar\"},{\"alignmentgroup\":\"True\",\"hovertemplate\":\"name=%{text}<br>points=%{y}<extra></extra>\",\"legendgroup\":\"Joel Matip\",\"marker\":{\"color\":\"#19d3f3\",\"pattern\":{\"shape\":\"\"}},\"name\":\"Joel Matip\",\"offsetgroup\":\"Joel Matip\",\"orientation\":\"v\",\"showlegend\":true,\"text\":[\"Joel Matip\"],\"textposition\":\"auto\",\"x\":[\"Joel Matip\"],\"xaxis\":\"x\",\"y\":[0.6170590447422813],\"yaxis\":\"y\",\"type\":\"bar\"},{\"alignmentgroup\":\"True\",\"hovertemplate\":\"name=%{text}<br>points=%{y}<extra></extra>\",\"legendgroup\":\"Davinson S\\u00e1nchez\",\"marker\":{\"color\":\"#FF6692\",\"pattern\":{\"shape\":\"\"}},\"name\":\"Davinson S\\u00e1nchez\",\"offsetgroup\":\"Davinson S\\u00e1nchez\",\"orientation\":\"v\",\"showlegend\":true,\"text\":[\"Davinson S\\u00e1nchez\"],\"textposition\":\"auto\",\"x\":[\"Davinson S\\u00e1nchez\"],\"xaxis\":\"x\",\"y\":[0.6247813995271277],\"yaxis\":\"y\",\"type\":\"bar\"},{\"alignmentgroup\":\"True\",\"hovertemplate\":\"name=%{text}<br>points=%{y}<extra></extra>\",\"legendgroup\":\"Virgil van Dijk\",\"marker\":{\"color\":\"#B6E880\",\"pattern\":{\"shape\":\"\"}},\"name\":\"Virgil van Dijk\",\"offsetgroup\":\"Virgil van Dijk\",\"orientation\":\"v\",\"showlegend\":true,\"text\":[\"Virgil van Dijk\"],\"textposition\":\"auto\",\"x\":[\"Virgil van Dijk\"],\"xaxis\":\"x\",\"y\":[0.6274861569938013],\"yaxis\":\"y\",\"type\":\"bar\"},{\"alignmentgroup\":\"True\",\"hovertemplate\":\"name=%{text}<br>points=%{y}<extra></extra>\",\"legendgroup\":\"Trent Alexander-Arnold\",\"marker\":{\"color\":\"#FF97FF\",\"pattern\":{\"shape\":\"\"}},\"name\":\"Trent Alexander-Arnold\",\"offsetgroup\":\"Trent Alexander-Arnold\",\"orientation\":\"v\",\"showlegend\":true,\"text\":[\"Trent Alexander-Arnold\"],\"textposition\":\"auto\",\"x\":[\"Trent Alexander-Arnold\"],\"xaxis\":\"x\",\"y\":[0.6512232705300575],\"yaxis\":\"y\",\"type\":\"bar\"},{\"alignmentgroup\":\"True\",\"hovertemplate\":\"name=%{text}<br>points=%{y}<extra></extra>\",\"legendgroup\":\"Matt Doherty\",\"marker\":{\"color\":\"#FECB52\",\"pattern\":{\"shape\":\"\"}},\"name\":\"Matt Doherty\",\"offsetgroup\":\"Matt Doherty\",\"orientation\":\"v\",\"showlegend\":true,\"text\":[\"Matt Doherty\"],\"textposition\":\"auto\",\"x\":[\"Matt Doherty\"],\"xaxis\":\"x\",\"y\":[1.0],\"yaxis\":\"y\",\"type\":\"bar\"}],                        {\"template\":{\"data\":{\"bar\":[{\"error_x\":{\"color\":\"#2a3f5f\"},\"error_y\":{\"color\":\"#2a3f5f\"},\"marker\":{\"line\":{\"color\":\"#E5ECF6\",\"width\":0.5},\"pattern\":{\"fillmode\":\"overlay\",\"size\":10,\"solidity\":0.2}},\"type\":\"bar\"}],\"barpolar\":[{\"marker\":{\"line\":{\"color\":\"#E5ECF6\",\"width\":0.5},\"pattern\":{\"fillmode\":\"overlay\",\"size\":10,\"solidity\":0.2}},\"type\":\"barpolar\"}],\"carpet\":[{\"aaxis\":{\"endlinecolor\":\"#2a3f5f\",\"gridcolor\":\"white\",\"linecolor\":\"white\",\"minorgridcolor\":\"white\",\"startlinecolor\":\"#2a3f5f\"},\"baxis\":{\"endlinecolor\":\"#2a3f5f\",\"gridcolor\":\"white\",\"linecolor\":\"white\",\"minorgridcolor\":\"white\",\"startlinecolor\":\"#2a3f5f\"},\"type\":\"carpet\"}],\"choropleth\":[{\"colorbar\":{\"outlinewidth\":0,\"ticks\":\"\"},\"type\":\"choropleth\"}],\"contour\":[{\"colorbar\":{\"outlinewidth\":0,\"ticks\":\"\"},\"colorscale\":[[0.0,\"#0d0887\"],[0.1111111111111111,\"#46039f\"],[0.2222222222222222,\"#7201a8\"],[0.3333333333333333,\"#9c179e\"],[0.4444444444444444,\"#bd3786\"],[0.5555555555555556,\"#d8576b\"],[0.6666666666666666,\"#ed7953\"],[0.7777777777777778,\"#fb9f3a\"],[0.8888888888888888,\"#fdca26\"],[1.0,\"#f0f921\"]],\"type\":\"contour\"}],\"contourcarpet\":[{\"colorbar\":{\"outlinewidth\":0,\"ticks\":\"\"},\"type\":\"contourcarpet\"}],\"heatmap\":[{\"colorbar\":{\"outlinewidth\":0,\"ticks\":\"\"},\"colorscale\":[[0.0,\"#0d0887\"],[0.1111111111111111,\"#46039f\"],[0.2222222222222222,\"#7201a8\"],[0.3333333333333333,\"#9c179e\"],[0.4444444444444444,\"#bd3786\"],[0.5555555555555556,\"#d8576b\"],[0.6666666666666666,\"#ed7953\"],[0.7777777777777778,\"#fb9f3a\"],[0.8888888888888888,\"#fdca26\"],[1.0,\"#f0f921\"]],\"type\":\"heatmap\"}],\"heatmapgl\":[{\"colorbar\":{\"outlinewidth\":0,\"ticks\":\"\"},\"colorscale\":[[0.0,\"#0d0887\"],[0.1111111111111111,\"#46039f\"],[0.2222222222222222,\"#7201a8\"],[0.3333333333333333,\"#9c179e\"],[0.4444444444444444,\"#bd3786\"],[0.5555555555555556,\"#d8576b\"],[0.6666666666666666,\"#ed7953\"],[0.7777777777777778,\"#fb9f3a\"],[0.8888888888888888,\"#fdca26\"],[1.0,\"#f0f921\"]],\"type\":\"heatmapgl\"}],\"histogram\":[{\"marker\":{\"pattern\":{\"fillmode\":\"overlay\",\"size\":10,\"solidity\":0.2}},\"type\":\"histogram\"}],\"histogram2d\":[{\"colorbar\":{\"outlinewidth\":0,\"ticks\":\"\"},\"colorscale\":[[0.0,\"#0d0887\"],[0.1111111111111111,\"#46039f\"],[0.2222222222222222,\"#7201a8\"],[0.3333333333333333,\"#9c179e\"],[0.4444444444444444,\"#bd3786\"],[0.5555555555555556,\"#d8576b\"],[0.6666666666666666,\"#ed7953\"],[0.7777777777777778,\"#fb9f3a\"],[0.8888888888888888,\"#fdca26\"],[1.0,\"#f0f921\"]],\"type\":\"histogram2d\"}],\"histogram2dcontour\":[{\"colorbar\":{\"outlinewidth\":0,\"ticks\":\"\"},\"colorscale\":[[0.0,\"#0d0887\"],[0.1111111111111111,\"#46039f\"],[0.2222222222222222,\"#7201a8\"],[0.3333333333333333,\"#9c179e\"],[0.4444444444444444,\"#bd3786\"],[0.5555555555555556,\"#d8576b\"],[0.6666666666666666,\"#ed7953\"],[0.7777777777777778,\"#fb9f3a\"],[0.8888888888888888,\"#fdca26\"],[1.0,\"#f0f921\"]],\"type\":\"histogram2dcontour\"}],\"mesh3d\":[{\"colorbar\":{\"outlinewidth\":0,\"ticks\":\"\"},\"type\":\"mesh3d\"}],\"parcoords\":[{\"line\":{\"colorbar\":{\"outlinewidth\":0,\"ticks\":\"\"}},\"type\":\"parcoords\"}],\"pie\":[{\"automargin\":true,\"type\":\"pie\"}],\"scatter\":[{\"marker\":{\"colorbar\":{\"outlinewidth\":0,\"ticks\":\"\"}},\"type\":\"scatter\"}],\"scatter3d\":[{\"line\":{\"colorbar\":{\"outlinewidth\":0,\"ticks\":\"\"}},\"marker\":{\"colorbar\":{\"outlinewidth\":0,\"ticks\":\"\"}},\"type\":\"scatter3d\"}],\"scattercarpet\":[{\"marker\":{\"colorbar\":{\"outlinewidth\":0,\"ticks\":\"\"}},\"type\":\"scattercarpet\"}],\"scattergeo\":[{\"marker\":{\"colorbar\":{\"outlinewidth\":0,\"ticks\":\"\"}},\"type\":\"scattergeo\"}],\"scattergl\":[{\"marker\":{\"colorbar\":{\"outlinewidth\":0,\"ticks\":\"\"}},\"type\":\"scattergl\"}],\"scattermapbox\":[{\"marker\":{\"colorbar\":{\"outlinewidth\":0,\"ticks\":\"\"}},\"type\":\"scattermapbox\"}],\"scatterpolar\":[{\"marker\":{\"colorbar\":{\"outlinewidth\":0,\"ticks\":\"\"}},\"type\":\"scatterpolar\"}],\"scatterpolargl\":[{\"marker\":{\"colorbar\":{\"outlinewidth\":0,\"ticks\":\"\"}},\"type\":\"scatterpolargl\"}],\"scatterternary\":[{\"marker\":{\"colorbar\":{\"outlinewidth\":0,\"ticks\":\"\"}},\"type\":\"scatterternary\"}],\"surface\":[{\"colorbar\":{\"outlinewidth\":0,\"ticks\":\"\"},\"colorscale\":[[0.0,\"#0d0887\"],[0.1111111111111111,\"#46039f\"],[0.2222222222222222,\"#7201a8\"],[0.3333333333333333,\"#9c179e\"],[0.4444444444444444,\"#bd3786\"],[0.5555555555555556,\"#d8576b\"],[0.6666666666666666,\"#ed7953\"],[0.7777777777777778,\"#fb9f3a\"],[0.8888888888888888,\"#fdca26\"],[1.0,\"#f0f921\"]],\"type\":\"surface\"}],\"table\":[{\"cells\":{\"fill\":{\"color\":\"#EBF0F8\"},\"line\":{\"color\":\"white\"}},\"header\":{\"fill\":{\"color\":\"#C8D4E3\"},\"line\":{\"color\":\"white\"}},\"type\":\"table\"}]},\"layout\":{\"annotationdefaults\":{\"arrowcolor\":\"#2a3f5f\",\"arrowhead\":0,\"arrowwidth\":1},\"autotypenumbers\":\"strict\",\"coloraxis\":{\"colorbar\":{\"outlinewidth\":0,\"ticks\":\"\"}},\"colorscale\":{\"diverging\":[[0,\"#8e0152\"],[0.1,\"#c51b7d\"],[0.2,\"#de77ae\"],[0.3,\"#f1b6da\"],[0.4,\"#fde0ef\"],[0.5,\"#f7f7f7\"],[0.6,\"#e6f5d0\"],[0.7,\"#b8e186\"],[0.8,\"#7fbc41\"],[0.9,\"#4d9221\"],[1,\"#276419\"]],\"sequential\":[[0.0,\"#0d0887\"],[0.1111111111111111,\"#46039f\"],[0.2222222222222222,\"#7201a8\"],[0.3333333333333333,\"#9c179e\"],[0.4444444444444444,\"#bd3786\"],[0.5555555555555556,\"#d8576b\"],[0.6666666666666666,\"#ed7953\"],[0.7777777777777778,\"#fb9f3a\"],[0.8888888888888888,\"#fdca26\"],[1.0,\"#f0f921\"]],\"sequentialminus\":[[0.0,\"#0d0887\"],[0.1111111111111111,\"#46039f\"],[0.2222222222222222,\"#7201a8\"],[0.3333333333333333,\"#9c179e\"],[0.4444444444444444,\"#bd3786\"],[0.5555555555555556,\"#d8576b\"],[0.6666666666666666,\"#ed7953\"],[0.7777777777777778,\"#fb9f3a\"],[0.8888888888888888,\"#fdca26\"],[1.0,\"#f0f921\"]]},\"colorway\":[\"#636efa\",\"#EF553B\",\"#00cc96\",\"#ab63fa\",\"#FFA15A\",\"#19d3f3\",\"#FF6692\",\"#B6E880\",\"#FF97FF\",\"#FECB52\"],\"font\":{\"color\":\"#2a3f5f\"},\"geo\":{\"bgcolor\":\"white\",\"lakecolor\":\"white\",\"landcolor\":\"#E5ECF6\",\"showlakes\":true,\"showland\":true,\"subunitcolor\":\"white\"},\"hoverlabel\":{\"align\":\"left\"},\"hovermode\":\"closest\",\"mapbox\":{\"style\":\"light\"},\"paper_bgcolor\":\"white\",\"plot_bgcolor\":\"#E5ECF6\",\"polar\":{\"angularaxis\":{\"gridcolor\":\"white\",\"linecolor\":\"white\",\"ticks\":\"\"},\"bgcolor\":\"#E5ECF6\",\"radialaxis\":{\"gridcolor\":\"white\",\"linecolor\":\"white\",\"ticks\":\"\"}},\"scene\":{\"xaxis\":{\"backgroundcolor\":\"#E5ECF6\",\"gridcolor\":\"white\",\"gridwidth\":2,\"linecolor\":\"white\",\"showbackground\":true,\"ticks\":\"\",\"zerolinecolor\":\"white\"},\"yaxis\":{\"backgroundcolor\":\"#E5ECF6\",\"gridcolor\":\"white\",\"gridwidth\":2,\"linecolor\":\"white\",\"showbackground\":true,\"ticks\":\"\",\"zerolinecolor\":\"white\"},\"zaxis\":{\"backgroundcolor\":\"#E5ECF6\",\"gridcolor\":\"white\",\"gridwidth\":2,\"linecolor\":\"white\",\"showbackground\":true,\"ticks\":\"\",\"zerolinecolor\":\"white\"}},\"shapedefaults\":{\"line\":{\"color\":\"#2a3f5f\"}},\"ternary\":{\"aaxis\":{\"gridcolor\":\"white\",\"linecolor\":\"white\",\"ticks\":\"\"},\"baxis\":{\"gridcolor\":\"white\",\"linecolor\":\"white\",\"ticks\":\"\"},\"bgcolor\":\"#E5ECF6\",\"caxis\":{\"gridcolor\":\"white\",\"linecolor\":\"white\",\"ticks\":\"\"}},\"title\":{\"x\":0.05},\"xaxis\":{\"automargin\":true,\"gridcolor\":\"white\",\"linecolor\":\"white\",\"ticks\":\"\",\"title\":{\"standoff\":15},\"zerolinecolor\":\"white\",\"zerolinewidth\":2},\"yaxis\":{\"automargin\":true,\"gridcolor\":\"white\",\"linecolor\":\"white\",\"ticks\":\"\",\"title\":{\"standoff\":15},\"zerolinecolor\":\"white\",\"zerolinewidth\":2}}},\"xaxis\":{\"anchor\":\"y\",\"domain\":[0.0,1.0],\"title\":{\"text\":\"name\"},\"categoryorder\":\"array\",\"categoryarray\":[\"Harry Maguire\",\"Rapha\\u00ebl Varane\",\"Aaron Wan-Bissaka\",\"Andrew Robertson\",\"Cristian Romero\",\"Joel Matip\",\"Davinson S\\u00e1nchez\",\"Virgil van Dijk\",\"Trent Alexander-Arnold\",\"Matt Doherty\"],\"visible\":false,\"showticklabels\":false},\"yaxis\":{\"anchor\":\"x\",\"domain\":[0.0,1.0],\"title\":{\"text\":\"points\"}},\"legend\":{\"title\":{\"text\":\"name\"},\"tracegroupgap\":0},\"title\":{\"text\":\"Long-Form Input\"},\"barmode\":\"relative\"},                        {\"responsive\": true}                    ).then(function(){\n",
              "                            \n",
              "var gd = document.getElementById('83f30c01-1ef6-45c7-b73f-59d65d136110');\n",
              "var x = new MutationObserver(function (mutations, observer) {{\n",
              "        var display = window.getComputedStyle(gd).display;\n",
              "        if (!display || display === 'none') {{\n",
              "            console.log([gd, 'removed!']);\n",
              "            Plotly.purge(gd);\n",
              "            observer.disconnect();\n",
              "        }}\n",
              "}});\n",
              "\n",
              "// Listen for the removal of the full notebook cells\n",
              "var notebookContainer = gd.closest('#notebook-container');\n",
              "if (notebookContainer) {{\n",
              "    x.observe(notebookContainer, {childList: true});\n",
              "}}\n",
              "\n",
              "// Listen for the clearing of the current output cell\n",
              "var outputEl = gd.closest('.output');\n",
              "if (outputEl) {{\n",
              "    x.observe(outputEl, {childList: true});\n",
              "}}\n",
              "\n",
              "                        })                };                            </script>        </div>\n",
              "</body>\n",
              "</html>"
            ]
          },
          "metadata": {},
          "output_type": "display_data"
        }
      ],
      "source": [
        "fig = px.bar(predicted_defs.head(no_plotted_players).sort_values(\"points\", ascending=True), x=\"name\", y=\"points\",color=\"name\" ,text=\"name\", title=\"Long-Form Input\")\n",
        "fig.update_xaxes(visible=False, showticklabels=False)\n",
        "fig.show()\n",
        "fig.write_image(\"plots/defenders.png\")"
      ]
    },
    {
      "cell_type": "code",
      "execution_count": 19,
      "metadata": {
        "colab": {
          "base_uri": "https://localhost:8080/",
          "height": 1000
        },
        "id": "Ot_7xVwI6kPc",
        "outputId": "ab062b4e-5a86-4cca-93cb-ea332cd066e8"
      },
      "outputs": [
        {
          "data": {
            "text/html": [
              "\n",
              "  <div id=\"df-4abbe938-7134-4e05-8a52-1a2293e5e844\">\n",
              "    <div class=\"colab-df-container\">\n",
              "      <div>\n",
              "<style scoped>\n",
              "    .dataframe tbody tr th:only-of-type {\n",
              "        vertical-align: middle;\n",
              "    }\n",
              "\n",
              "    .dataframe tbody tr th {\n",
              "        vertical-align: top;\n",
              "    }\n",
              "\n",
              "    .dataframe thead th {\n",
              "        text-align: right;\n",
              "    }\n",
              "</style>\n",
              "<table border=\"1\" class=\"dataframe\">\n",
              "  <thead>\n",
              "    <tr style=\"text-align: right;\">\n",
              "      <th></th>\n",
              "      <th>name</th>\n",
              "      <th>team_x</th>\n",
              "      <th>points</th>\n",
              "      <th>value</th>\n",
              "      <th>position</th>\n",
              "    </tr>\n",
              "    <tr>\n",
              "      <th>index</th>\n",
              "      <th></th>\n",
              "      <th></th>\n",
              "      <th></th>\n",
              "      <th></th>\n",
              "      <th></th>\n",
              "    </tr>\n",
              "  </thead>\n",
              "  <tbody>\n",
              "    <tr>\n",
              "      <th>Harry Kane2022-08-06 14:00:00+00:00</th>\n",
              "      <td>Harry Kane</td>\n",
              "      <td>Spurs</td>\n",
              "      <td>1.000000</td>\n",
              "      <td>115</td>\n",
              "      <td>FWD</td>\n",
              "    </tr>\n",
              "    <tr>\n",
              "      <th>Cristiano Ronaldo dos Santos Aveiro2022-08-07 13:00:00+00:00</th>\n",
              "      <td>Cristaino Ronaldo</td>\n",
              "      <td>Man Utd</td>\n",
              "      <td>0.800902</td>\n",
              "      <td>105</td>\n",
              "      <td>FWD</td>\n",
              "    </tr>\n",
              "    <tr>\n",
              "      <th>Ollie Watkins2022-08-06 14:00:00+00:00</th>\n",
              "      <td>Ollie Watkins</td>\n",
              "      <td>Aston Villa</td>\n",
              "      <td>0.687488</td>\n",
              "      <td>75</td>\n",
              "      <td>FWD</td>\n",
              "    </tr>\n",
              "    <tr>\n",
              "      <th>Jamie Vardy2022-08-07 13:00:00+00:00</th>\n",
              "      <td>Jamie Vardy</td>\n",
              "      <td>Leicester</td>\n",
              "      <td>0.656458</td>\n",
              "      <td>95</td>\n",
              "      <td>FWD</td>\n",
              "    </tr>\n",
              "    <tr>\n",
              "      <th>Danny Ings2022-08-06 14:00:00+00:00</th>\n",
              "      <td>Danny Ings</td>\n",
              "      <td>Aston Villa</td>\n",
              "      <td>0.520967</td>\n",
              "      <td>70</td>\n",
              "      <td>FWD</td>\n",
              "    </tr>\n",
              "    <tr>\n",
              "      <th>Kai Havertz2022-08-06 16:30:00+00:00</th>\n",
              "      <td>Kai Havertz</td>\n",
              "      <td>Chelsea</td>\n",
              "      <td>0.505170</td>\n",
              "      <td>80</td>\n",
              "      <td>FWD</td>\n",
              "    </tr>\n",
              "    <tr>\n",
              "      <th>Ivan Toney2022-08-07 13:00:00+00:00</th>\n",
              "      <td>Ivan Toney</td>\n",
              "      <td>Brentford</td>\n",
              "      <td>0.504606</td>\n",
              "      <td>70</td>\n",
              "      <td>FWD</td>\n",
              "    </tr>\n",
              "    <tr>\n",
              "      <th>Chris Wood2022-08-06 14:00:00+00:00</th>\n",
              "      <td>Chris Wood</td>\n",
              "      <td>Newcastle</td>\n",
              "      <td>0.493095</td>\n",
              "      <td>60</td>\n",
              "      <td>FWD</td>\n",
              "    </tr>\n",
              "    <tr>\n",
              "      <th>Gabriel Fernando de Jesus2022-08-05 19:00:00+00:00</th>\n",
              "      <td>Gabriel Jesus</td>\n",
              "      <td>Arsenal</td>\n",
              "      <td>0.483506</td>\n",
              "      <td>80</td>\n",
              "      <td>FWD</td>\n",
              "    </tr>\n",
              "    <tr>\n",
              "      <th>Callum Wilson2022-08-06 14:00:00+00:00</th>\n",
              "      <td>Callum Wilson</td>\n",
              "      <td>Newcastle</td>\n",
              "      <td>0.435922</td>\n",
              "      <td>75</td>\n",
              "      <td>FWD</td>\n",
              "    </tr>\n",
              "    <tr>\n",
              "      <th>Raúl Jiménez2022-08-06 14:00:00+00:00</th>\n",
              "      <td>Raúl Jiménez</td>\n",
              "      <td>Wolves</td>\n",
              "      <td>0.420543</td>\n",
              "      <td>70</td>\n",
              "      <td>FWD</td>\n",
              "    </tr>\n",
              "    <tr>\n",
              "      <th>Kelechi Iheanacho2022-08-07 13:00:00+00:00</th>\n",
              "      <td>Kelechi Iheanacho</td>\n",
              "      <td>Leicester</td>\n",
              "      <td>0.413639</td>\n",
              "      <td>65</td>\n",
              "      <td>FWD</td>\n",
              "    </tr>\n",
              "    <tr>\n",
              "      <th>Armando Broja2022-08-06 16:30:00+00:00</th>\n",
              "      <td>Armando Broja</td>\n",
              "      <td>Chelsea</td>\n",
              "      <td>0.396146</td>\n",
              "      <td>55</td>\n",
              "      <td>FWD</td>\n",
              "    </tr>\n",
              "    <tr>\n",
              "      <th>Michail Antonio2022-08-07 15:30:00+00:00</th>\n",
              "      <td>Michail Antonio</td>\n",
              "      <td>West Ham</td>\n",
              "      <td>0.393612</td>\n",
              "      <td>75</td>\n",
              "      <td>FWD</td>\n",
              "    </tr>\n",
              "    <tr>\n",
              "      <th>Danny Welbeck2022-08-07 13:00:00+00:00</th>\n",
              "      <td>Danny Welbeck</td>\n",
              "      <td>Brighton</td>\n",
              "      <td>0.374694</td>\n",
              "      <td>65</td>\n",
              "      <td>FWD</td>\n",
              "    </tr>\n",
              "    <tr>\n",
              "      <th>Bryan Mbeumo2022-08-07 13:00:00+00:00</th>\n",
              "      <td>Bryan Mbeumo</td>\n",
              "      <td>Brentford</td>\n",
              "      <td>0.359898</td>\n",
              "      <td>60</td>\n",
              "      <td>FWD</td>\n",
              "    </tr>\n",
              "    <tr>\n",
              "      <th>Brennan Johnson2022-08-06 14:00:00+00:00</th>\n",
              "      <td>Brennan Johnson</td>\n",
              "      <td>Nott'm Forest</td>\n",
              "      <td>0.358288</td>\n",
              "      <td>60</td>\n",
              "      <td>FWD</td>\n",
              "    </tr>\n",
              "    <tr>\n",
              "      <th>Taiwo Awoniyi2022-08-06 14:00:00+00:00</th>\n",
              "      <td>Taiwo Awoniyi</td>\n",
              "      <td>Nott'm Forest</td>\n",
              "      <td>0.358288</td>\n",
              "      <td>60</td>\n",
              "      <td>FWD</td>\n",
              "    </tr>\n",
              "    <tr>\n",
              "      <th>Kieffer Moore2022-08-06 14:00:00+00:00</th>\n",
              "      <td>Kieffer Moore</td>\n",
              "      <td>Bournemouth</td>\n",
              "      <td>0.350933</td>\n",
              "      <td>55</td>\n",
              "      <td>FWD</td>\n",
              "    </tr>\n",
              "    <tr>\n",
              "      <th>Neal Maupay2022-08-07 13:00:00+00:00</th>\n",
              "      <td>Neal Maupay</td>\n",
              "      <td>Brighton</td>\n",
              "      <td>0.343593</td>\n",
              "      <td>65</td>\n",
              "      <td>FWD</td>\n",
              "    </tr>\n",
              "    <tr>\n",
              "      <th>Che Adams2022-08-06 14:00:00+00:00</th>\n",
              "      <td>Che Adams</td>\n",
              "      <td>Southampton</td>\n",
              "      <td>0.333623</td>\n",
              "      <td>65</td>\n",
              "      <td>FWD</td>\n",
              "    </tr>\n",
              "    <tr>\n",
              "      <th>Dominic Solanke2022-08-06 14:00:00+00:00</th>\n",
              "      <td>Dominic Solanke</td>\n",
              "      <td>Bournemouth</td>\n",
              "      <td>0.310023</td>\n",
              "      <td>60</td>\n",
              "      <td>FWD</td>\n",
              "    </tr>\n",
              "    <tr>\n",
              "      <th>Aleksandar Mitrović2022-08-06 11:30:00+00:00</th>\n",
              "      <td>Aleksandar Mitrović</td>\n",
              "      <td>Fulham</td>\n",
              "      <td>0.307867</td>\n",
              "      <td>65</td>\n",
              "      <td>FWD</td>\n",
              "    </tr>\n",
              "    <tr>\n",
              "      <th>Joe Gelhardt2022-08-06 14:00:00+00:00</th>\n",
              "      <td>Joe Gelhardt</td>\n",
              "      <td>Leeds</td>\n",
              "      <td>0.301517</td>\n",
              "      <td>55</td>\n",
              "      <td>FWD</td>\n",
              "    </tr>\n",
              "    <tr>\n",
              "      <th>Rodrigo Muniz Carvalho2022-08-06 11:30:00+00:00</th>\n",
              "      <td>Rodrigo Muniz Carvalho</td>\n",
              "      <td>Fulham</td>\n",
              "      <td>0.295564</td>\n",
              "      <td>55</td>\n",
              "      <td>FWD</td>\n",
              "    </tr>\n",
              "    <tr>\n",
              "      <th>Deniz Undav2022-08-07 13:00:00+00:00</th>\n",
              "      <td>Deniz Undav</td>\n",
              "      <td>Brighton</td>\n",
              "      <td>0.292500</td>\n",
              "      <td>55</td>\n",
              "      <td>FWD</td>\n",
              "    </tr>\n",
              "    <tr>\n",
              "      <th>Odsonne Edouard2022-08-05 19:00:00+00:00</th>\n",
              "      <td>Odsonne Edouard</td>\n",
              "      <td>Crystal Palace</td>\n",
              "      <td>0.291208</td>\n",
              "      <td>55</td>\n",
              "      <td>FWD</td>\n",
              "    </tr>\n",
              "    <tr>\n",
              "      <th>Patson Daka2022-08-07 13:00:00+00:00</th>\n",
              "      <td>Patson Daka</td>\n",
              "      <td>Leicester</td>\n",
              "      <td>0.290664</td>\n",
              "      <td>60</td>\n",
              "      <td>FWD</td>\n",
              "    </tr>\n",
              "    <tr>\n",
              "      <th>Dominic Calvert-Lewin2022-08-06 16:30:00+00:00</th>\n",
              "      <td>Dominic Calvert-Lewin</td>\n",
              "      <td>Everton</td>\n",
              "      <td>0.287005</td>\n",
              "      <td>80</td>\n",
              "      <td>FWD</td>\n",
              "    </tr>\n",
              "    <tr>\n",
              "      <th>Adam Armstrong2022-08-06 14:00:00+00:00</th>\n",
              "      <td>Adam Armstrong</td>\n",
              "      <td>Southampton</td>\n",
              "      <td>0.230488</td>\n",
              "      <td>55</td>\n",
              "      <td>FWD</td>\n",
              "    </tr>\n",
              "    <tr>\n",
              "      <th>Christian Benteke2022-08-05 19:00:00+00:00</th>\n",
              "      <td>Christian Benteke</td>\n",
              "      <td>Crystal Palace</td>\n",
              "      <td>0.212104</td>\n",
              "      <td>55</td>\n",
              "      <td>FWD</td>\n",
              "    </tr>\n",
              "    <tr>\n",
              "      <th>Jean-Philippe Mateta2022-08-05 19:00:00+00:00</th>\n",
              "      <td>Jean-Philippe Mateta</td>\n",
              "      <td>Crystal Palace</td>\n",
              "      <td>0.210447</td>\n",
              "      <td>55</td>\n",
              "      <td>FWD</td>\n",
              "    </tr>\n",
              "  </tbody>\n",
              "</table>\n",
              "</div>\n",
              "      <button class=\"colab-df-convert\" onclick=\"convertToInteractive('df-4abbe938-7134-4e05-8a52-1a2293e5e844')\"\n",
              "              title=\"Convert this dataframe to an interactive table.\"\n",
              "              style=\"display:none;\">\n",
              "        \n",
              "  <svg xmlns=\"http://www.w3.org/2000/svg\" height=\"24px\"viewBox=\"0 0 24 24\"\n",
              "       width=\"24px\">\n",
              "    <path d=\"M0 0h24v24H0V0z\" fill=\"none\"/>\n",
              "    <path d=\"M18.56 5.44l.94 2.06.94-2.06 2.06-.94-2.06-.94-.94-2.06-.94 2.06-2.06.94zm-11 1L8.5 8.5l.94-2.06 2.06-.94-2.06-.94L8.5 2.5l-.94 2.06-2.06.94zm10 10l.94 2.06.94-2.06 2.06-.94-2.06-.94-.94-2.06-.94 2.06-2.06.94z\"/><path d=\"M17.41 7.96l-1.37-1.37c-.4-.4-.92-.59-1.43-.59-.52 0-1.04.2-1.43.59L10.3 9.45l-7.72 7.72c-.78.78-.78 2.05 0 2.83L4 21.41c.39.39.9.59 1.41.59.51 0 1.02-.2 1.41-.59l7.78-7.78 2.81-2.81c.8-.78.8-2.07 0-2.86zM5.41 20L4 18.59l7.72-7.72 1.47 1.35L5.41 20z\"/>\n",
              "  </svg>\n",
              "      </button>\n",
              "      \n",
              "  <style>\n",
              "    .colab-df-container {\n",
              "      display:flex;\n",
              "      flex-wrap:wrap;\n",
              "      gap: 12px;\n",
              "    }\n",
              "\n",
              "    .colab-df-convert {\n",
              "      background-color: #E8F0FE;\n",
              "      border: none;\n",
              "      border-radius: 50%;\n",
              "      cursor: pointer;\n",
              "      display: none;\n",
              "      fill: #1967D2;\n",
              "      height: 32px;\n",
              "      padding: 0 0 0 0;\n",
              "      width: 32px;\n",
              "    }\n",
              "\n",
              "    .colab-df-convert:hover {\n",
              "      background-color: #E2EBFA;\n",
              "      box-shadow: 0px 1px 2px rgba(60, 64, 67, 0.3), 0px 1px 3px 1px rgba(60, 64, 67, 0.15);\n",
              "      fill: #174EA6;\n",
              "    }\n",
              "\n",
              "    [theme=dark] .colab-df-convert {\n",
              "      background-color: #3B4455;\n",
              "      fill: #D2E3FC;\n",
              "    }\n",
              "\n",
              "    [theme=dark] .colab-df-convert:hover {\n",
              "      background-color: #434B5C;\n",
              "      box-shadow: 0px 1px 3px 1px rgba(0, 0, 0, 0.15);\n",
              "      filter: drop-shadow(0px 1px 2px rgba(0, 0, 0, 0.3));\n",
              "      fill: #FFFFFF;\n",
              "    }\n",
              "  </style>\n",
              "\n",
              "      <script>\n",
              "        const buttonEl =\n",
              "          document.querySelector('#df-4abbe938-7134-4e05-8a52-1a2293e5e844 button.colab-df-convert');\n",
              "        buttonEl.style.display =\n",
              "          google.colab.kernel.accessAllowed ? 'block' : 'none';\n",
              "\n",
              "        async function convertToInteractive(key) {\n",
              "          const element = document.querySelector('#df-4abbe938-7134-4e05-8a52-1a2293e5e844');\n",
              "          const dataTable =\n",
              "            await google.colab.kernel.invokeFunction('convertToInteractive',\n",
              "                                                     [key], {});\n",
              "          if (!dataTable) return;\n",
              "\n",
              "          const docLinkHtml = 'Like what you see? Visit the ' +\n",
              "            '<a target=\"_blank\" href=https://colab.research.google.com/notebooks/data_table.ipynb>data table notebook</a>'\n",
              "            + ' to learn more about interactive tables.';\n",
              "          element.innerHTML = '';\n",
              "          dataTable['output_type'] = 'display_data';\n",
              "          await google.colab.output.renderOutput(dataTable, element);\n",
              "          const docLink = document.createElement('div');\n",
              "          docLink.innerHTML = docLinkHtml;\n",
              "          element.appendChild(docLink);\n",
              "        }\n",
              "      </script>\n",
              "    </div>\n",
              "  </div>\n",
              "  "
            ],
            "text/plain": [
              "                                                                      name  \\\n",
              "index                                                                        \n",
              "Harry Kane2022-08-06 14:00:00+00:00                             Harry Kane   \n",
              "Cristiano Ronaldo dos Santos Aveiro2022-08-07 1...       Cristaino Ronaldo   \n",
              "Ollie Watkins2022-08-06 14:00:00+00:00                       Ollie Watkins   \n",
              "Jamie Vardy2022-08-07 13:00:00+00:00                           Jamie Vardy   \n",
              "Danny Ings2022-08-06 14:00:00+00:00                             Danny Ings   \n",
              "Kai Havertz2022-08-06 16:30:00+00:00                           Kai Havertz   \n",
              "Ivan Toney2022-08-07 13:00:00+00:00                             Ivan Toney   \n",
              "Chris Wood2022-08-06 14:00:00+00:00                             Chris Wood   \n",
              "Gabriel Fernando de Jesus2022-08-05 19:00:00+00:00           Gabriel Jesus   \n",
              "Callum Wilson2022-08-06 14:00:00+00:00                       Callum Wilson   \n",
              "Raúl Jiménez2022-08-06 14:00:00+00:00                         Raúl Jiménez   \n",
              "Kelechi Iheanacho2022-08-07 13:00:00+00:00               Kelechi Iheanacho   \n",
              "Armando Broja2022-08-06 16:30:00+00:00                       Armando Broja   \n",
              "Michail Antonio2022-08-07 15:30:00+00:00                   Michail Antonio   \n",
              "Danny Welbeck2022-08-07 13:00:00+00:00                       Danny Welbeck   \n",
              "Bryan Mbeumo2022-08-07 13:00:00+00:00                         Bryan Mbeumo   \n",
              "Brennan Johnson2022-08-06 14:00:00+00:00                   Brennan Johnson   \n",
              "Taiwo Awoniyi2022-08-06 14:00:00+00:00                       Taiwo Awoniyi   \n",
              "Kieffer Moore2022-08-06 14:00:00+00:00                       Kieffer Moore   \n",
              "Neal Maupay2022-08-07 13:00:00+00:00                           Neal Maupay   \n",
              "Che Adams2022-08-06 14:00:00+00:00                               Che Adams   \n",
              "Dominic Solanke2022-08-06 14:00:00+00:00                   Dominic Solanke   \n",
              "Aleksandar Mitrović2022-08-06 11:30:00+00:00           Aleksandar Mitrović   \n",
              "Joe Gelhardt2022-08-06 14:00:00+00:00                         Joe Gelhardt   \n",
              "Rodrigo Muniz Carvalho2022-08-06 11:30:00+00:00     Rodrigo Muniz Carvalho   \n",
              "Deniz Undav2022-08-07 13:00:00+00:00                           Deniz Undav   \n",
              "Odsonne Edouard2022-08-05 19:00:00+00:00                   Odsonne Edouard   \n",
              "Patson Daka2022-08-07 13:00:00+00:00                           Patson Daka   \n",
              "Dominic Calvert-Lewin2022-08-06 16:30:00+00:00       Dominic Calvert-Lewin   \n",
              "Adam Armstrong2022-08-06 14:00:00+00:00                     Adam Armstrong   \n",
              "Christian Benteke2022-08-05 19:00:00+00:00               Christian Benteke   \n",
              "Jean-Philippe Mateta2022-08-05 19:00:00+00:00         Jean-Philippe Mateta   \n",
              "\n",
              "                                                            team_x    points  \\\n",
              "index                                                                          \n",
              "Harry Kane2022-08-06 14:00:00+00:00                          Spurs  1.000000   \n",
              "Cristiano Ronaldo dos Santos Aveiro2022-08-07 1...         Man Utd  0.800902   \n",
              "Ollie Watkins2022-08-06 14:00:00+00:00                 Aston Villa  0.687488   \n",
              "Jamie Vardy2022-08-07 13:00:00+00:00                     Leicester  0.656458   \n",
              "Danny Ings2022-08-06 14:00:00+00:00                    Aston Villa  0.520967   \n",
              "Kai Havertz2022-08-06 16:30:00+00:00                       Chelsea  0.505170   \n",
              "Ivan Toney2022-08-07 13:00:00+00:00                      Brentford  0.504606   \n",
              "Chris Wood2022-08-06 14:00:00+00:00                      Newcastle  0.493095   \n",
              "Gabriel Fernando de Jesus2022-08-05 19:00:00+00:00         Arsenal  0.483506   \n",
              "Callum Wilson2022-08-06 14:00:00+00:00                   Newcastle  0.435922   \n",
              "Raúl Jiménez2022-08-06 14:00:00+00:00                       Wolves  0.420543   \n",
              "Kelechi Iheanacho2022-08-07 13:00:00+00:00               Leicester  0.413639   \n",
              "Armando Broja2022-08-06 16:30:00+00:00                     Chelsea  0.396146   \n",
              "Michail Antonio2022-08-07 15:30:00+00:00                  West Ham  0.393612   \n",
              "Danny Welbeck2022-08-07 13:00:00+00:00                    Brighton  0.374694   \n",
              "Bryan Mbeumo2022-08-07 13:00:00+00:00                    Brentford  0.359898   \n",
              "Brennan Johnson2022-08-06 14:00:00+00:00             Nott'm Forest  0.358288   \n",
              "Taiwo Awoniyi2022-08-06 14:00:00+00:00               Nott'm Forest  0.358288   \n",
              "Kieffer Moore2022-08-06 14:00:00+00:00                 Bournemouth  0.350933   \n",
              "Neal Maupay2022-08-07 13:00:00+00:00                      Brighton  0.343593   \n",
              "Che Adams2022-08-06 14:00:00+00:00                     Southampton  0.333623   \n",
              "Dominic Solanke2022-08-06 14:00:00+00:00               Bournemouth  0.310023   \n",
              "Aleksandar Mitrović2022-08-06 11:30:00+00:00                Fulham  0.307867   \n",
              "Joe Gelhardt2022-08-06 14:00:00+00:00                        Leeds  0.301517   \n",
              "Rodrigo Muniz Carvalho2022-08-06 11:30:00+00:00             Fulham  0.295564   \n",
              "Deniz Undav2022-08-07 13:00:00+00:00                      Brighton  0.292500   \n",
              "Odsonne Edouard2022-08-05 19:00:00+00:00            Crystal Palace  0.291208   \n",
              "Patson Daka2022-08-07 13:00:00+00:00                     Leicester  0.290664   \n",
              "Dominic Calvert-Lewin2022-08-06 16:30:00+00:00             Everton  0.287005   \n",
              "Adam Armstrong2022-08-06 14:00:00+00:00                Southampton  0.230488   \n",
              "Christian Benteke2022-08-05 19:00:00+00:00          Crystal Palace  0.212104   \n",
              "Jean-Philippe Mateta2022-08-05 19:00:00+00:00       Crystal Palace  0.210447   \n",
              "\n",
              "                                                    value position  \n",
              "index                                                               \n",
              "Harry Kane2022-08-06 14:00:00+00:00                   115      FWD  \n",
              "Cristiano Ronaldo dos Santos Aveiro2022-08-07 1...    105      FWD  \n",
              "Ollie Watkins2022-08-06 14:00:00+00:00                 75      FWD  \n",
              "Jamie Vardy2022-08-07 13:00:00+00:00                   95      FWD  \n",
              "Danny Ings2022-08-06 14:00:00+00:00                    70      FWD  \n",
              "Kai Havertz2022-08-06 16:30:00+00:00                   80      FWD  \n",
              "Ivan Toney2022-08-07 13:00:00+00:00                    70      FWD  \n",
              "Chris Wood2022-08-06 14:00:00+00:00                    60      FWD  \n",
              "Gabriel Fernando de Jesus2022-08-05 19:00:00+00:00     80      FWD  \n",
              "Callum Wilson2022-08-06 14:00:00+00:00                 75      FWD  \n",
              "Raúl Jiménez2022-08-06 14:00:00+00:00                  70      FWD  \n",
              "Kelechi Iheanacho2022-08-07 13:00:00+00:00             65      FWD  \n",
              "Armando Broja2022-08-06 16:30:00+00:00                 55      FWD  \n",
              "Michail Antonio2022-08-07 15:30:00+00:00               75      FWD  \n",
              "Danny Welbeck2022-08-07 13:00:00+00:00                 65      FWD  \n",
              "Bryan Mbeumo2022-08-07 13:00:00+00:00                  60      FWD  \n",
              "Brennan Johnson2022-08-06 14:00:00+00:00               60      FWD  \n",
              "Taiwo Awoniyi2022-08-06 14:00:00+00:00                 60      FWD  \n",
              "Kieffer Moore2022-08-06 14:00:00+00:00                 55      FWD  \n",
              "Neal Maupay2022-08-07 13:00:00+00:00                   65      FWD  \n",
              "Che Adams2022-08-06 14:00:00+00:00                     65      FWD  \n",
              "Dominic Solanke2022-08-06 14:00:00+00:00               60      FWD  \n",
              "Aleksandar Mitrović2022-08-06 11:30:00+00:00           65      FWD  \n",
              "Joe Gelhardt2022-08-06 14:00:00+00:00                  55      FWD  \n",
              "Rodrigo Muniz Carvalho2022-08-06 11:30:00+00:00        55      FWD  \n",
              "Deniz Undav2022-08-07 13:00:00+00:00                   55      FWD  \n",
              "Odsonne Edouard2022-08-05 19:00:00+00:00               55      FWD  \n",
              "Patson Daka2022-08-07 13:00:00+00:00                   60      FWD  \n",
              "Dominic Calvert-Lewin2022-08-06 16:30:00+00:00         80      FWD  \n",
              "Adam Armstrong2022-08-06 14:00:00+00:00                55      FWD  \n",
              "Christian Benteke2022-08-05 19:00:00+00:00             55      FWD  \n",
              "Jean-Philippe Mateta2022-08-05 19:00:00+00:00          55      FWD  "
            ]
          },
          "execution_count": 19,
          "metadata": {},
          "output_type": "execute_result"
        }
      ],
      "source": [
        "predicted_fwds"
      ]
    },
    {
      "cell_type": "markdown",
      "metadata": {
        "id": "T4VUEPaiB98I"
      },
      "source": [
        "GKS"
      ]
    },
    {
      "cell_type": "code",
      "execution_count": 20,
      "metadata": {
        "colab": {
          "base_uri": "https://localhost:8080/",
          "height": 542
        },
        "id": "U9cEw4yn_ztZ",
        "outputId": "e1f1c9ed-5447-41a9-b3fe-afb919cb5209"
      },
      "outputs": [
        {
          "data": {
            "text/html": [
              "<html>\n",
              "<head><meta charset=\"utf-8\" /></head>\n",
              "<body>\n",
              "    <div>            <script src=\"https://cdnjs.cloudflare.com/ajax/libs/mathjax/2.7.5/MathJax.js?config=TeX-AMS-MML_SVG\"></script><script type=\"text/javascript\">if (window.MathJax) {MathJax.Hub.Config({SVG: {font: \"STIX-Web\"}});}</script>                <script type=\"text/javascript\">window.PlotlyConfig = {MathJaxConfig: 'local'};</script>\n",
              "        <script src=\"https://cdn.plot.ly/plotly-2.8.3.min.js\"></script>                <div id=\"93f55003-1af4-4ac6-98e3-33d258d0bf94\" class=\"plotly-graph-div\" style=\"height:525px; width:100%;\"></div>            <script type=\"text/javascript\">                                    window.PLOTLYENV=window.PLOTLYENV || {};                                    if (document.getElementById(\"93f55003-1af4-4ac6-98e3-33d258d0bf94\")) {                    Plotly.newPlot(                        \"93f55003-1af4-4ac6-98e3-33d258d0bf94\",                        [{\"alignmentgroup\":\"True\",\"hovertemplate\":\"name=%{text}<br>points=%{y}<extra></extra>\",\"legendgroup\":\"Aaron Ramsdale\",\"marker\":{\"color\":\"#636efa\",\"pattern\":{\"shape\":\"\"}},\"name\":\"Aaron Ramsdale\",\"offsetgroup\":\"Aaron Ramsdale\",\"orientation\":\"v\",\"showlegend\":true,\"text\":[\"Aaron Ramsdale\"],\"textposition\":\"auto\",\"x\":[\"Aaron Ramsdale\"],\"xaxis\":\"x\",\"y\":[0.828137917638911],\"yaxis\":\"y\",\"type\":\"bar\"},{\"alignmentgroup\":\"True\",\"hovertemplate\":\"name=%{text}<br>points=%{y}<extra></extra>\",\"legendgroup\":\"Martin Dubravka\",\"marker\":{\"color\":\"#EF553B\",\"pattern\":{\"shape\":\"\"}},\"name\":\"Martin Dubravka\",\"offsetgroup\":\"Martin Dubravka\",\"orientation\":\"v\",\"showlegend\":true,\"text\":[\"Martin Dubravka\"],\"textposition\":\"auto\",\"x\":[\"Martin Dubravka\"],\"xaxis\":\"x\",\"y\":[0.8314698957224134],\"yaxis\":\"y\",\"type\":\"bar\"},{\"alignmentgroup\":\"True\",\"hovertemplate\":\"name=%{text}<br>points=%{y}<extra></extra>\",\"legendgroup\":\"Hugo Lloris\",\"marker\":{\"color\":\"#00cc96\",\"pattern\":{\"shape\":\"\"}},\"name\":\"Hugo Lloris\",\"offsetgroup\":\"Hugo Lloris\",\"orientation\":\"v\",\"showlegend\":true,\"text\":[\"Hugo Lloris\"],\"textposition\":\"auto\",\"x\":[\"Hugo Lloris\"],\"xaxis\":\"x\",\"y\":[0.8779397620118929],\"yaxis\":\"y\",\"type\":\"bar\"},{\"alignmentgroup\":\"True\",\"hovertemplate\":\"name=%{text}<br>points=%{y}<extra></extra>\",\"legendgroup\":\"Kasper Schmeichel\",\"marker\":{\"color\":\"#ab63fa\",\"pattern\":{\"shape\":\"\"}},\"name\":\"Kasper Schmeichel\",\"offsetgroup\":\"Kasper Schmeichel\",\"orientation\":\"v\",\"showlegend\":true,\"text\":[\"Kasper Schmeichel\"],\"textposition\":\"auto\",\"x\":[\"Kasper Schmeichel\"],\"xaxis\":\"x\",\"y\":[0.8958891979429047],\"yaxis\":\"y\",\"type\":\"bar\"},{\"alignmentgroup\":\"True\",\"hovertemplate\":\"name=%{text}<br>points=%{y}<extra></extra>\",\"legendgroup\":\"Jos\\u00e9 Malheiro de S\\u00e1\",\"marker\":{\"color\":\"#FFA15A\",\"pattern\":{\"shape\":\"\"}},\"name\":\"Jos\\u00e9 Malheiro de S\\u00e1\",\"offsetgroup\":\"Jos\\u00e9 Malheiro de S\\u00e1\",\"orientation\":\"v\",\"showlegend\":true,\"text\":[\"Jos\\u00e9 Malheiro de S\\u00e1\"],\"textposition\":\"auto\",\"x\":[\"Jos\\u00e9 Malheiro de S\\u00e1\"],\"xaxis\":\"x\",\"y\":[0.9175091781007702],\"yaxis\":\"y\",\"type\":\"bar\"},{\"alignmentgroup\":\"True\",\"hovertemplate\":\"name=%{text}<br>points=%{y}<extra></extra>\",\"legendgroup\":\"David De Gea Quintana\",\"marker\":{\"color\":\"#19d3f3\",\"pattern\":{\"shape\":\"\"}},\"name\":\"David De Gea Quintana\",\"offsetgroup\":\"David De Gea Quintana\",\"orientation\":\"v\",\"showlegend\":true,\"text\":[\"David De Gea Quintana\"],\"textposition\":\"auto\",\"x\":[\"David De Gea Quintana\"],\"xaxis\":\"x\",\"y\":[0.9270841310349164],\"yaxis\":\"y\",\"type\":\"bar\"},{\"alignmentgroup\":\"True\",\"hovertemplate\":\"name=%{text}<br>points=%{y}<extra></extra>\",\"legendgroup\":\"Emiliano Mart\\u00ednez Romero\",\"marker\":{\"color\":\"#FF6692\",\"pattern\":{\"shape\":\"\"}},\"name\":\"Emiliano Mart\\u00ednez Romero\",\"offsetgroup\":\"Emiliano Mart\\u00ednez Romero\",\"orientation\":\"v\",\"showlegend\":true,\"text\":[\"Emiliano Mart\\u00ednez Romero\"],\"textposition\":\"auto\",\"x\":[\"Emiliano Mart\\u00ednez Romero\"],\"xaxis\":\"x\",\"y\":[0.9365911423649134],\"yaxis\":\"y\",\"type\":\"bar\"},{\"alignmentgroup\":\"True\",\"hovertemplate\":\"name=%{text}<br>points=%{y}<extra></extra>\",\"legendgroup\":\"Nick Pope\",\"marker\":{\"color\":\"#B6E880\",\"pattern\":{\"shape\":\"\"}},\"name\":\"Nick Pope\",\"offsetgroup\":\"Nick Pope\",\"orientation\":\"v\",\"showlegend\":true,\"text\":[\"Nick Pope\"],\"textposition\":\"auto\",\"x\":[\"Nick Pope\"],\"xaxis\":\"x\",\"y\":[0.959909588608369],\"yaxis\":\"y\",\"type\":\"bar\"},{\"alignmentgroup\":\"True\",\"hovertemplate\":\"name=%{text}<br>points=%{y}<extra></extra>\",\"legendgroup\":\"Alisson Ramses Becker\",\"marker\":{\"color\":\"#FF97FF\",\"pattern\":{\"shape\":\"\"}},\"name\":\"Alisson Ramses Becker\",\"offsetgroup\":\"Alisson Ramses Becker\",\"orientation\":\"v\",\"showlegend\":true,\"text\":[\"Alisson Ramses Becker\"],\"textposition\":\"auto\",\"x\":[\"Alisson Ramses Becker\"],\"xaxis\":\"x\",\"y\":[0.9672530814246488],\"yaxis\":\"y\",\"type\":\"bar\"},{\"alignmentgroup\":\"True\",\"hovertemplate\":\"name=%{text}<br>points=%{y}<extra></extra>\",\"legendgroup\":\"Illan Meslier\",\"marker\":{\"color\":\"#FECB52\",\"pattern\":{\"shape\":\"\"}},\"name\":\"Illan Meslier\",\"offsetgroup\":\"Illan Meslier\",\"orientation\":\"v\",\"showlegend\":true,\"text\":[\"Illan Meslier\"],\"textposition\":\"auto\",\"x\":[\"Illan Meslier\"],\"xaxis\":\"x\",\"y\":[1.0],\"yaxis\":\"y\",\"type\":\"bar\"}],                        {\"template\":{\"data\":{\"bar\":[{\"error_x\":{\"color\":\"#2a3f5f\"},\"error_y\":{\"color\":\"#2a3f5f\"},\"marker\":{\"line\":{\"color\":\"#E5ECF6\",\"width\":0.5},\"pattern\":{\"fillmode\":\"overlay\",\"size\":10,\"solidity\":0.2}},\"type\":\"bar\"}],\"barpolar\":[{\"marker\":{\"line\":{\"color\":\"#E5ECF6\",\"width\":0.5},\"pattern\":{\"fillmode\":\"overlay\",\"size\":10,\"solidity\":0.2}},\"type\":\"barpolar\"}],\"carpet\":[{\"aaxis\":{\"endlinecolor\":\"#2a3f5f\",\"gridcolor\":\"white\",\"linecolor\":\"white\",\"minorgridcolor\":\"white\",\"startlinecolor\":\"#2a3f5f\"},\"baxis\":{\"endlinecolor\":\"#2a3f5f\",\"gridcolor\":\"white\",\"linecolor\":\"white\",\"minorgridcolor\":\"white\",\"startlinecolor\":\"#2a3f5f\"},\"type\":\"carpet\"}],\"choropleth\":[{\"colorbar\":{\"outlinewidth\":0,\"ticks\":\"\"},\"type\":\"choropleth\"}],\"contour\":[{\"colorbar\":{\"outlinewidth\":0,\"ticks\":\"\"},\"colorscale\":[[0.0,\"#0d0887\"],[0.1111111111111111,\"#46039f\"],[0.2222222222222222,\"#7201a8\"],[0.3333333333333333,\"#9c179e\"],[0.4444444444444444,\"#bd3786\"],[0.5555555555555556,\"#d8576b\"],[0.6666666666666666,\"#ed7953\"],[0.7777777777777778,\"#fb9f3a\"],[0.8888888888888888,\"#fdca26\"],[1.0,\"#f0f921\"]],\"type\":\"contour\"}],\"contourcarpet\":[{\"colorbar\":{\"outlinewidth\":0,\"ticks\":\"\"},\"type\":\"contourcarpet\"}],\"heatmap\":[{\"colorbar\":{\"outlinewidth\":0,\"ticks\":\"\"},\"colorscale\":[[0.0,\"#0d0887\"],[0.1111111111111111,\"#46039f\"],[0.2222222222222222,\"#7201a8\"],[0.3333333333333333,\"#9c179e\"],[0.4444444444444444,\"#bd3786\"],[0.5555555555555556,\"#d8576b\"],[0.6666666666666666,\"#ed7953\"],[0.7777777777777778,\"#fb9f3a\"],[0.8888888888888888,\"#fdca26\"],[1.0,\"#f0f921\"]],\"type\":\"heatmap\"}],\"heatmapgl\":[{\"colorbar\":{\"outlinewidth\":0,\"ticks\":\"\"},\"colorscale\":[[0.0,\"#0d0887\"],[0.1111111111111111,\"#46039f\"],[0.2222222222222222,\"#7201a8\"],[0.3333333333333333,\"#9c179e\"],[0.4444444444444444,\"#bd3786\"],[0.5555555555555556,\"#d8576b\"],[0.6666666666666666,\"#ed7953\"],[0.7777777777777778,\"#fb9f3a\"],[0.8888888888888888,\"#fdca26\"],[1.0,\"#f0f921\"]],\"type\":\"heatmapgl\"}],\"histogram\":[{\"marker\":{\"pattern\":{\"fillmode\":\"overlay\",\"size\":10,\"solidity\":0.2}},\"type\":\"histogram\"}],\"histogram2d\":[{\"colorbar\":{\"outlinewidth\":0,\"ticks\":\"\"},\"colorscale\":[[0.0,\"#0d0887\"],[0.1111111111111111,\"#46039f\"],[0.2222222222222222,\"#7201a8\"],[0.3333333333333333,\"#9c179e\"],[0.4444444444444444,\"#bd3786\"],[0.5555555555555556,\"#d8576b\"],[0.6666666666666666,\"#ed7953\"],[0.7777777777777778,\"#fb9f3a\"],[0.8888888888888888,\"#fdca26\"],[1.0,\"#f0f921\"]],\"type\":\"histogram2d\"}],\"histogram2dcontour\":[{\"colorbar\":{\"outlinewidth\":0,\"ticks\":\"\"},\"colorscale\":[[0.0,\"#0d0887\"],[0.1111111111111111,\"#46039f\"],[0.2222222222222222,\"#7201a8\"],[0.3333333333333333,\"#9c179e\"],[0.4444444444444444,\"#bd3786\"],[0.5555555555555556,\"#d8576b\"],[0.6666666666666666,\"#ed7953\"],[0.7777777777777778,\"#fb9f3a\"],[0.8888888888888888,\"#fdca26\"],[1.0,\"#f0f921\"]],\"type\":\"histogram2dcontour\"}],\"mesh3d\":[{\"colorbar\":{\"outlinewidth\":0,\"ticks\":\"\"},\"type\":\"mesh3d\"}],\"parcoords\":[{\"line\":{\"colorbar\":{\"outlinewidth\":0,\"ticks\":\"\"}},\"type\":\"parcoords\"}],\"pie\":[{\"automargin\":true,\"type\":\"pie\"}],\"scatter\":[{\"marker\":{\"colorbar\":{\"outlinewidth\":0,\"ticks\":\"\"}},\"type\":\"scatter\"}],\"scatter3d\":[{\"line\":{\"colorbar\":{\"outlinewidth\":0,\"ticks\":\"\"}},\"marker\":{\"colorbar\":{\"outlinewidth\":0,\"ticks\":\"\"}},\"type\":\"scatter3d\"}],\"scattercarpet\":[{\"marker\":{\"colorbar\":{\"outlinewidth\":0,\"ticks\":\"\"}},\"type\":\"scattercarpet\"}],\"scattergeo\":[{\"marker\":{\"colorbar\":{\"outlinewidth\":0,\"ticks\":\"\"}},\"type\":\"scattergeo\"}],\"scattergl\":[{\"marker\":{\"colorbar\":{\"outlinewidth\":0,\"ticks\":\"\"}},\"type\":\"scattergl\"}],\"scattermapbox\":[{\"marker\":{\"colorbar\":{\"outlinewidth\":0,\"ticks\":\"\"}},\"type\":\"scattermapbox\"}],\"scatterpolar\":[{\"marker\":{\"colorbar\":{\"outlinewidth\":0,\"ticks\":\"\"}},\"type\":\"scatterpolar\"}],\"scatterpolargl\":[{\"marker\":{\"colorbar\":{\"outlinewidth\":0,\"ticks\":\"\"}},\"type\":\"scatterpolargl\"}],\"scatterternary\":[{\"marker\":{\"colorbar\":{\"outlinewidth\":0,\"ticks\":\"\"}},\"type\":\"scatterternary\"}],\"surface\":[{\"colorbar\":{\"outlinewidth\":0,\"ticks\":\"\"},\"colorscale\":[[0.0,\"#0d0887\"],[0.1111111111111111,\"#46039f\"],[0.2222222222222222,\"#7201a8\"],[0.3333333333333333,\"#9c179e\"],[0.4444444444444444,\"#bd3786\"],[0.5555555555555556,\"#d8576b\"],[0.6666666666666666,\"#ed7953\"],[0.7777777777777778,\"#fb9f3a\"],[0.8888888888888888,\"#fdca26\"],[1.0,\"#f0f921\"]],\"type\":\"surface\"}],\"table\":[{\"cells\":{\"fill\":{\"color\":\"#EBF0F8\"},\"line\":{\"color\":\"white\"}},\"header\":{\"fill\":{\"color\":\"#C8D4E3\"},\"line\":{\"color\":\"white\"}},\"type\":\"table\"}]},\"layout\":{\"annotationdefaults\":{\"arrowcolor\":\"#2a3f5f\",\"arrowhead\":0,\"arrowwidth\":1},\"autotypenumbers\":\"strict\",\"coloraxis\":{\"colorbar\":{\"outlinewidth\":0,\"ticks\":\"\"}},\"colorscale\":{\"diverging\":[[0,\"#8e0152\"],[0.1,\"#c51b7d\"],[0.2,\"#de77ae\"],[0.3,\"#f1b6da\"],[0.4,\"#fde0ef\"],[0.5,\"#f7f7f7\"],[0.6,\"#e6f5d0\"],[0.7,\"#b8e186\"],[0.8,\"#7fbc41\"],[0.9,\"#4d9221\"],[1,\"#276419\"]],\"sequential\":[[0.0,\"#0d0887\"],[0.1111111111111111,\"#46039f\"],[0.2222222222222222,\"#7201a8\"],[0.3333333333333333,\"#9c179e\"],[0.4444444444444444,\"#bd3786\"],[0.5555555555555556,\"#d8576b\"],[0.6666666666666666,\"#ed7953\"],[0.7777777777777778,\"#fb9f3a\"],[0.8888888888888888,\"#fdca26\"],[1.0,\"#f0f921\"]],\"sequentialminus\":[[0.0,\"#0d0887\"],[0.1111111111111111,\"#46039f\"],[0.2222222222222222,\"#7201a8\"],[0.3333333333333333,\"#9c179e\"],[0.4444444444444444,\"#bd3786\"],[0.5555555555555556,\"#d8576b\"],[0.6666666666666666,\"#ed7953\"],[0.7777777777777778,\"#fb9f3a\"],[0.8888888888888888,\"#fdca26\"],[1.0,\"#f0f921\"]]},\"colorway\":[\"#636efa\",\"#EF553B\",\"#00cc96\",\"#ab63fa\",\"#FFA15A\",\"#19d3f3\",\"#FF6692\",\"#B6E880\",\"#FF97FF\",\"#FECB52\"],\"font\":{\"color\":\"#2a3f5f\"},\"geo\":{\"bgcolor\":\"white\",\"lakecolor\":\"white\",\"landcolor\":\"#E5ECF6\",\"showlakes\":true,\"showland\":true,\"subunitcolor\":\"white\"},\"hoverlabel\":{\"align\":\"left\"},\"hovermode\":\"closest\",\"mapbox\":{\"style\":\"light\"},\"paper_bgcolor\":\"white\",\"plot_bgcolor\":\"#E5ECF6\",\"polar\":{\"angularaxis\":{\"gridcolor\":\"white\",\"linecolor\":\"white\",\"ticks\":\"\"},\"bgcolor\":\"#E5ECF6\",\"radialaxis\":{\"gridcolor\":\"white\",\"linecolor\":\"white\",\"ticks\":\"\"}},\"scene\":{\"xaxis\":{\"backgroundcolor\":\"#E5ECF6\",\"gridcolor\":\"white\",\"gridwidth\":2,\"linecolor\":\"white\",\"showbackground\":true,\"ticks\":\"\",\"zerolinecolor\":\"white\"},\"yaxis\":{\"backgroundcolor\":\"#E5ECF6\",\"gridcolor\":\"white\",\"gridwidth\":2,\"linecolor\":\"white\",\"showbackground\":true,\"ticks\":\"\",\"zerolinecolor\":\"white\"},\"zaxis\":{\"backgroundcolor\":\"#E5ECF6\",\"gridcolor\":\"white\",\"gridwidth\":2,\"linecolor\":\"white\",\"showbackground\":true,\"ticks\":\"\",\"zerolinecolor\":\"white\"}},\"shapedefaults\":{\"line\":{\"color\":\"#2a3f5f\"}},\"ternary\":{\"aaxis\":{\"gridcolor\":\"white\",\"linecolor\":\"white\",\"ticks\":\"\"},\"baxis\":{\"gridcolor\":\"white\",\"linecolor\":\"white\",\"ticks\":\"\"},\"bgcolor\":\"#E5ECF6\",\"caxis\":{\"gridcolor\":\"white\",\"linecolor\":\"white\",\"ticks\":\"\"}},\"title\":{\"x\":0.05},\"xaxis\":{\"automargin\":true,\"gridcolor\":\"white\",\"linecolor\":\"white\",\"ticks\":\"\",\"title\":{\"standoff\":15},\"zerolinecolor\":\"white\",\"zerolinewidth\":2},\"yaxis\":{\"automargin\":true,\"gridcolor\":\"white\",\"linecolor\":\"white\",\"ticks\":\"\",\"title\":{\"standoff\":15},\"zerolinecolor\":\"white\",\"zerolinewidth\":2}}},\"xaxis\":{\"anchor\":\"y\",\"domain\":[0.0,1.0],\"title\":{\"text\":\"name\"},\"categoryorder\":\"array\",\"categoryarray\":[\"Aaron Ramsdale\",\"Martin Dubravka\",\"Hugo Lloris\",\"Kasper Schmeichel\",\"Jos\\u00e9 Malheiro de S\\u00e1\",\"David De Gea Quintana\",\"Emiliano Mart\\u00ednez Romero\",\"Nick Pope\",\"Alisson Ramses Becker\",\"Illan Meslier\"],\"visible\":false,\"showticklabels\":false},\"yaxis\":{\"anchor\":\"x\",\"domain\":[0.0,1.0],\"title\":{\"text\":\"points\"}},\"legend\":{\"title\":{\"text\":\"name\"},\"tracegroupgap\":0},\"title\":{\"text\":\"Long-Form Input\"},\"barmode\":\"relative\"},                        {\"responsive\": true}                    ).then(function(){\n",
              "                            \n",
              "var gd = document.getElementById('93f55003-1af4-4ac6-98e3-33d258d0bf94');\n",
              "var x = new MutationObserver(function (mutations, observer) {{\n",
              "        var display = window.getComputedStyle(gd).display;\n",
              "        if (!display || display === 'none') {{\n",
              "            console.log([gd, 'removed!']);\n",
              "            Plotly.purge(gd);\n",
              "            observer.disconnect();\n",
              "        }}\n",
              "}});\n",
              "\n",
              "// Listen for the removal of the full notebook cells\n",
              "var notebookContainer = gd.closest('#notebook-container');\n",
              "if (notebookContainer) {{\n",
              "    x.observe(notebookContainer, {childList: true});\n",
              "}}\n",
              "\n",
              "// Listen for the clearing of the current output cell\n",
              "var outputEl = gd.closest('.output');\n",
              "if (outputEl) {{\n",
              "    x.observe(outputEl, {childList: true});\n",
              "}}\n",
              "\n",
              "                        })                };                            </script>        </div>\n",
              "</body>\n",
              "</html>"
            ]
          },
          "metadata": {},
          "output_type": "display_data"
        }
      ],
      "source": [
        "fig = px.bar(predicted_gks.head(no_plotted_players).sort_values(\"points\", ascending=True), x=\"name\", y=\"points\",color=\"name\" ,text=\"name\", title=\"Long-Form Input\")\n",
        "fig.update_xaxes(visible=False, showticklabels=False)\n",
        "fig.show()\n",
        "fig.write_image(\"plots/goalkeepers.png\")"
      ]
    }
  ],
  "metadata": {
    "colab": {
      "collapsed_sections": [],
      "name": "Plots and select team.ipynb",
      "provenance": []
    },
    "kernelspec": {
      "display_name": "Python 3",
      "language": "python",
      "name": "python3"
    },
    "language_info": {
      "name": "python",
      "version": "3.7.6"
    },
    "vscode": {
      "interpreter": {
        "hash": "ff43946487114a1a19cff93423592bbe99976efebc6c7de2e0e54e25cdf7b7bf"
      }
    }
  },
  "nbformat": 4,
  "nbformat_minor": 0
}
